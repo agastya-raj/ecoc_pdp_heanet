{
 "cells": [
  {
   "cell_type": "code",
   "execution_count": 15,
   "metadata": {},
   "outputs": [],
   "source": [
    "import sys\n",
    "sys.path.append(\"/home/ajag/tcdona3\")\n",
    "import math\n",
    "from tcdona2.polatis import Polatis\n",
    "from monitor import RoadmMonitor\n",
    "from ila import ILA\n",
    "from bbsource import BBS\n",
    "import time     \n",
    "import json"
   ]
  },
  {
   "cell_type": "code",
   "execution_count": 16,
   "metadata": {},
   "outputs": [
    {
     "name": "stdout",
     "output_type": "stream",
     "text": [
      "Initializing ROADM Monitoring for lumentum_4...\n",
      "Initializing ROADM Monitoring for lumentum_2...\n",
      "Initializing ROADM Monitoring for lumentum_7...\n",
      "Initializing ROADM Monitoring for lumentum_9...\n",
      "Initializing ROADM Monitoring for lumentum_8...\n",
      "Initializing ROADM Monitoring for lumentum_6...\n",
      "Initializing ROADM Monitoring for lumentum_5...\n"
     ]
    }
   ],
   "source": [
    "pol = Polatis()\n",
    "pol.login()\n",
    "\n",
    "monitors = [RoadmMonitor('lumentum_4'), RoadmMonitor('lumentum_2'), RoadmMonitor('lumentum_7'), RoadmMonitor('lumentum_9'), RoadmMonitor('lumentum_8'), RoadmMonitor('lumentum_6'), RoadmMonitor('lumentum_5')]\n",
    "roadms = [monitor.roadm for monitor in monitors]"
   ]
  },
  {
   "cell_type": "code",
   "execution_count": null,
   "metadata": {},
   "outputs": [],
   "source": []
  },
  {
   "cell_type": "code",
   "execution_count": 4,
   "metadata": {},
   "outputs": [],
   "source": [
    "patch_list = [\n",
    "('tf_1', 'roadm_4_p1'),\n",
    "('tf_2', 'roadm_4_p2'), \n",
    "('tf_3', 'roadm_4_p3'),\n",
    "\n",
    "('PH-AROF-1', 'roadm_4_p4'), ## need to add 1,\n",
    "\n",
    "('roadm_4_line', 'PH-FIBER-100m'), ## need to add 2\n",
    "('PH-FIBER-100m', 'roadm_2_line'), ## need to add 2\n",
    "\n",
    "('roadm_2_p1', 'fiber_7_510m') ,\n",
    "('fiber_7_510m', 'roadm_7_line'),\n",
    "\n",
    "('roadm_7_p1', 'roadm_7_p1'),\n",
    "\n",
    "('roadm_7_line', 'fiber_19_12646'),\n",
    "('fiber_19_12646', 'roadm_8_line'),\n",
    "\n",
    "('roadm_8_p1', 'roadm_8_p1'),\n",
    "\n",
    "('roadm_8_line', 'fiber_18_25220m'),\n",
    "('fiber_18_25220m', 'roadm_9_line'),\n",
    "\n",
    "('roadm_9_p1', 'roadm_9_p1'),\n",
    "\n",
    "('roadm_9_line', 'fiber_22_25332m'),\n",
    "('fiber_22_25332m', 'roadm_6_line'),\n",
    "\n",
    "('roadm_6_p1', 'roadm_6_p1'),\n",
    "\n",
    "('roadm_6_line', 'fiber_17_665m'),\n",
    "('fiber_17_665m', 'fiber_p1b_394m'),\n",
    "('fiber_p1b_394m', 'roadm_5_line'),\n",
    "\n",
    "('roadm_5_p1', 'roadm_5_p1'),\n",
    "\n",
    "('roadm_5_line', 'fiber_15_11895m'),\n",
    "('fiber_15_11895m', 'roadm_2_p1'),\n",
    "\n",
    "('roadm_2_line', 'PH-FIBER-500m'), ## need to add 2\n",
    "('PH-FIBER-500m', 'roadm_4_line'), ## need to add 2\n",
    "\n",
    "('roadm_4_p1', 'tf_1'),\n",
    "('roadm_4_p2', 'tf_2'), \n",
    "('roadm_4_p3', 'tf_3'), \n",
    "\n",
    "('roadm_4_p4', 'PH-AROF-1'), ## need to add 2\n",
    "]"
   ]
  },
  {
   "cell_type": "markdown",
   "metadata": {},
   "source": [
    "### Test-1\n",
    "<li> Just testing the direct lightpath first </li>\n",
    "<li> Changes from patch_list:\n",
    "    <li> disabling P2-P5 for ROADM-4 first\n",
    "    <li> Adding fiber-13 and fiber-15 instead of placeholder fibers\n",
    "</li>"
   ]
  },
  {
   "cell_type": "code",
   "execution_count": 12,
   "metadata": {},
   "outputs": [],
   "source": [
    "test1_patch_list = [\n",
    "('tf_1', 'roadm_4_p1'), \n",
    "('tf_2', 'roadm_4_p2'), \n",
    "('tf_3', 'roadm_4_p3'), \n",
    "\n",
    "('roadm_4_line', 'fiber_temp_100m'), \n",
    "('fiber_temp_100m', 'roadm_2_line'), \n",
    "\n",
    "('roadm_2_p1', 'fiber_7_510m') ,\n",
    "('fiber_7_510m', 'roadm_7_line'),\n",
    "\n",
    "('roadm_7_p1', 'roadm_7_p1'),\n",
    "\n",
    "('roadm_7_line', 'fiber_19_12646m'),\n",
    "('fiber_19_12646m', 'roadm_8_line'),\n",
    "\n",
    "('roadm_8_p1', 'roadm_8_p1'),\n",
    "\n",
    "('roadm_8_line', 'fiber_18_25220m'),\n",
    "('fiber_18_25220m', 'roadm_9_line'),\n",
    "\n",
    "('roadm_9_p1', 'roadm_9_p1'),\n",
    "\n",
    "('roadm_9_line', 'fiber_22_25332m'),\n",
    "('fiber_22_25332m', 'roadm_6_line'),\n",
    "\n",
    "('roadm_6_p1', 'roadm_6_p1'),\n",
    "\n",
    "('roadm_6_line', 'fiber_17_665m'),\n",
    "('fiber_17_665m', 'fiber_p1b_394m'),\n",
    "('fiber_p1b_394m', 'roadm_5_line'),\n",
    "\n",
    "('roadm_5_p1', 'roadm_5_p1'),\n",
    "\n",
    "('roadm_5_line', 'fiber_15_11895m'),\n",
    "('fiber_15_11895m', 'roadm_2_p1'),\n",
    "\n",
    "('roadm_2_line', 'fiber_temp_268m'), \n",
    "('fiber_temp_268m', 'roadm_4_line'), \n",
    "\n",
    "('roadm_4_p1', 'tf_1'),\n",
    "('roadm_4_p2', 'tf_2'), \n",
    "('roadm_4_p3', 'tf_3'), \n",
    "\n",
    "# ('roadm_4_p4', 'PH-AROF-1'), ## need to add 2 # disabling this for now\n",
    "]"
   ]
  },
  {
   "cell_type": "code",
   "execution_count": 17,
   "metadata": {},
   "outputs": [
    {
     "data": {
      "text/plain": [
       "[('tf_1', 'roadm_4_p1'),\n",
       " ('tf_2', 'roadm_4_p2'),\n",
       " ('tf_3', 'roadm_4_p3'),\n",
       " ('roadm_4_line', 'fiber_temp_100m'),\n",
       " ('fiber_temp_100m', 'roadm_2_line'),\n",
       " ('roadm_2_p1', 'fiber_7_510m'),\n",
       " ('fiber_7_510m', 'roadm_7_line'),\n",
       " ('roadm_7_p1', 'roadm_7_p1'),\n",
       " ('roadm_7_line', 'fiber_19_12646m'),\n",
       " ('fiber_19_12646m', 'roadm_8_line'),\n",
       " ('roadm_8_p1', 'roadm_8_p1'),\n",
       " ('roadm_8_line', 'fiber_18_25220m'),\n",
       " ('fiber_18_25220m', 'roadm_9_line'),\n",
       " ('roadm_9_p1', 'roadm_9_p1'),\n",
       " ('roadm_9_line', 'fiber_22_25332m'),\n",
       " ('fiber_22_25332m', 'roadm_6_line'),\n",
       " ('roadm_6_p1', 'roadm_6_p1'),\n",
       " ('roadm_6_line', 'fiber_17_665m'),\n",
       " ('fiber_17_665m', 'fiber_p1b_394m'),\n",
       " ('fiber_p1b_394m', 'roadm_5_line'),\n",
       " ('roadm_5_p1', 'roadm_5_p1'),\n",
       " ('roadm_5_line', 'fiber_15_11895m'),\n",
       " ('fiber_15_11895m', 'roadm_2_p1'),\n",
       " ('roadm_2_line', 'fiber_temp_268m'),\n",
       " ('fiber_temp_268m', 'roadm_4_line'),\n",
       " ('roadm_4_p1', 'tf_1'),\n",
       " ('roadm_4_p2', 'tf_2'),\n",
       " ('roadm_4_p3', 'tf_3')]"
      ]
     },
     "execution_count": 17,
     "metadata": {},
     "output_type": "execute_result"
    }
   ],
   "source": [
    "test1_patch_list"
   ]
  },
  {
   "cell_type": "code",
   "execution_count": 18,
   "metadata": {},
   "outputs": [
    {
     "name": "stdout",
     "output_type": "stream",
     "text": [
      "tf_1 (1): -0.19 dBm ---> roadm_4_p1 (427): -1.80 dBm < 20.00 dBm\n",
      "tf_2 (2): 2.97 dBm ---> roadm_4_p2 (448): -48.18 dBm < 20.00 dBm\n",
      "tf_3 (3): 3.07 dBm ---> roadm_4_p3 (447): -48.25 dBm < 20.00 dBm\n",
      "roadm_4_line (214): -28.60 dBm ---> fiber_temp_100m (401): -48.30 dBm < 20.00 dBm\n",
      "fiber_temp_100m (81): -28.33 dBm ---> roadm_2_line (536): -48.20 dBm < 20.00 dBm\n",
      "roadm_2_p1 (105): -29.05 dBm ---> fiber_7_510m (359): -47.04 dBm < 20.00 dBm\n",
      "fiber_7_510m (39): -28.27 dBm ---> roadm_7_line (531): -48.27 dBm < 20.00 dBm\n",
      "roadm_7_p1 (110): -22.63 dBm ---> roadm_7_p1 (430): -23.75 dBm < 20.00 dBm\n",
      "roadm_7_line (211): -28.14 dBm ---> fiber_19_12646m (375): -47.78 dBm < 20.00 dBm\n",
      "fiber_19_12646m (55): -28.26 dBm ---> roadm_8_line (530): -48.47 dBm < 20.00 dBm\n",
      "roadm_8_p1 (111): -28.48 dBm ---> roadm_8_p1 (431): -48.79 dBm < 20.00 dBm\n",
      "roadm_8_line (210): -28.45 dBm ---> fiber_18_25220m (374): -47.81 dBm < 20.00 dBm\n",
      "fiber_18_25220m (54): -27.93 dBm ---> roadm_9_line (529): -47.80 dBm < 20.00 dBm\n",
      "roadm_9_p1 (112): -28.33 dBm ---> roadm_9_p1 (432): -49.08 dBm < 20.00 dBm\n",
      "roadm_9_line (209): -28.23 dBm ---> fiber_22_25332m (378): -47.76 dBm < 20.00 dBm\n",
      "fiber_22_25332m (58): -28.58 dBm ---> roadm_6_line (532): -48.53 dBm < 20.00 dBm\n",
      "roadm_6_p1 (109): -24.95 dBm ---> roadm_6_p1 (429): -26.31 dBm < 20.00 dBm\n",
      "roadm_6_line (212): -28.64 dBm ---> fiber_17_665m (373): -48.19 dBm < 20.00 dBm\n",
      "fiber_17_665m (53): -28.09 dBm ---> fiber_p1b_394m (384): -46.64 dBm < 20.00 dBm\n",
      "fiber_p1b_394m (64): -28.34 dBm ---> roadm_5_line (533): -47.72 dBm < 20.00 dBm\n",
      "roadm_5_p1 (108): -14.64 dBm ---> roadm_5_p1 (428): -15.83 dBm < 20.00 dBm\n",
      "roadm_5_line (213): -29.02 dBm ---> fiber_15_11895m (371): -46.70 dBm < 20.00 dBm\n",
      "fiber_15_11895m (51): -28.45 dBm ---> roadm_2_p1 (425): -48.29 dBm < 20.00 dBm\n",
      "roadm_2_line (216): -27.84 dBm ---> fiber_temp_268m (383): -48.25 dBm < 20.00 dBm\n",
      "fiber_temp_268m (63): -28.09 dBm ---> roadm_4_line (534): -48.51 dBm < 20.00 dBm\n",
      "roadm_4_p1 (107): -28.93 dBm ---> tf_1 (321): -37.07 dBm < 20.00 dBm\n",
      "roadm_4_p2 (128): -28.39 dBm ---> tf_2 (322): -47.76 dBm < 20.00 dBm\n",
      "roadm_4_p3 (127): -28.63 dBm ---> tf_3 (323): -48.21 dBm < 20.00 dBm\n"
     ]
    }
   ],
   "source": [
    "pol.apply_patch_list(test1_patch_list)"
   ]
  },
  {
   "cell_type": "code",
   "execution_count": null,
   "metadata": {},
   "outputs": [],
   "source": []
  }
 ],
 "metadata": {
  "kernelspec": {
   "display_name": "Python 3",
   "language": "python",
   "name": "python3"
  },
  "language_info": {
   "codemirror_mode": {
    "name": "ipython",
    "version": 3
   },
   "file_extension": ".py",
   "mimetype": "text/x-python",
   "name": "python",
   "nbconvert_exporter": "python",
   "pygments_lexer": "ipython3",
   "version": "3.6.9"
  }
 },
 "nbformat": 4,
 "nbformat_minor": 2
}
