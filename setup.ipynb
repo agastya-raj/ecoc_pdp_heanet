{
 "cells": [
  {
   "cell_type": "code",
   "execution_count": 1,
   "metadata": {},
   "outputs": [
    {
     "name": "stderr",
     "output_type": "stream",
     "text": [
      "Matplotlib created a temporary config/cache directory at /tmp/matplotlib-y7j_7kro because the default path (/home/ajag/.config/matplotlib) is not a writable directory; it is highly recommended to set the MPLCONFIGDIR environment variable to a writable directory, in particular to speed up the import of Matplotlib and to better support multiprocessing.\n"
     ]
    }
   ],
   "source": [
    "import sys\n",
    "sys.path.append(\"/home/ajag/tcdona3\")\n",
    "import math\n",
    "from tcdona2.polatis import Polatis\n",
    "from monitor import RoadmMonitor\n",
    "from ila import ILA\n",
    "from bbsource import BBS\n",
    "import time     \n",
    "import json"
   ]
  },
  {
   "cell_type": "code",
   "execution_count": 17,
   "metadata": {},
   "outputs": [],
   "source": [
    "patch_list = [\n",
    "('tf_1', 'roadm_4_p1'),\n",
    "('tf_2', 'roadm_4_p2'), ## need to add 2\n",
    "('tf_3', 'roadm_4_p3'), ## need to add 2\n",
    "\n",
    "('PH-AROF-1', 'roadm_4_p4'), ## need to add 1,2\n",
    "('PH-AROF-2', 'roadm_4_p5'), ## need to add 1,2\n",
    "\n",
    "('roadm_4_line', 'PH-FIBER-100m'), ## need to add 2\n",
    "('PH-FIBER-100m', 'roadm_2_line'), ## need to add 2\n",
    "\n",
    "('roadm_2_p1', 'fiber_7_510m') ,\n",
    "('fiber_7_510m', 'roadm_7_line'),\n",
    "\n",
    "('roadm_7_p1', 'roadm_7_p1'),\n",
    "\n",
    "('roadm_7_line', 'fiber_19_12646'),\n",
    "('fiber_19_12646', 'roadm_8_line'),\n",
    "\n",
    "('roadm_8_p1', 'roadm_8_p1'),\n",
    "\n",
    "('roadm_8_line', 'fiber_18_25220m'),\n",
    "('fiber_18_25220m', 'roadm_9_line'),\n",
    "\n",
    "('roadm_9_p1', 'roadm_9_p1'),\n",
    "\n",
    "('roadm_9_line', 'fiber_22_25332m'),\n",
    "('fiber_22_25332m', 'roadm_6_line'),\n",
    "\n",
    "('roadm_6_p1', 'roadm_6_p1'),\n",
    "\n",
    "('roadm_6_line', 'fiber_17_665m'),\n",
    "('fiber_17_665m', 'fiber_p1b_394m'),\n",
    "('fiber_p1b_394m', 'roadm_5_line'),\n",
    "\n",
    "('roadm_5_p1', 'roadm_5_p1'),\n",
    "\n",
    "('roadm_5_line', 'fiber_15_11895m'),\n",
    "('fiber_15_11895m', 'roadm_2_p1'),\n",
    "\n",
    "('roadm_2_line', 'PH-FIBER-500m'), ## need to add 2\n",
    "('PH-FIBER-500m', 'roadm_4_line'), ## need to add 2\n",
    "\n",
    "('roadm_4_p1', 'tf_1'), ## need to add 1\n",
    "('roadm_4_p2', 'tf_2'), ## need to add 1\n",
    "('roadm_4_p3', 'tf_3'), ## need to add 1\n",
    "\n",
    "('roadm_4_p4', 'PH-AROF-1'), ## need to add 1,2\n",
    "('roadm_4_p5', 'PH-AROF-2') ## need to add 1,2\n",
    "]"
   ]
  },
  {
   "cell_type": "code",
   "execution_count": null,
   "metadata": {},
   "outputs": [],
   "source": []
  },
  {
   "cell_type": "code",
   "execution_count": null,
   "metadata": {},
   "outputs": [],
   "source": []
  }
 ],
 "metadata": {
  "kernelspec": {
   "display_name": "Python 3",
   "language": "python",
   "name": "python3"
  },
  "language_info": {
   "codemirror_mode": {
    "name": "ipython",
    "version": 3
   },
   "file_extension": ".py",
   "mimetype": "text/x-python",
   "name": "python",
   "nbconvert_exporter": "python",
   "pygments_lexer": "ipython3",
   "version": "3.6.9"
  }
 },
 "nbformat": 4,
 "nbformat_minor": 2
}
