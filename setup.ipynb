{
 "cells": [
  {
   "cell_type": "code",
   "execution_count": 1,
   "metadata": {},
   "outputs": [
    {
     "name": "stderr",
     "output_type": "stream",
     "text": [
      "Matplotlib created a temporary config/cache directory at /tmp/matplotlib-u4a7yq9j because the default path (/home/ajag/.config/matplotlib) is not a writable directory; it is highly recommended to set the MPLCONFIGDIR environment variable to a writable directory, in particular to speed up the import of Matplotlib and to better support multiprocessing.\n"
     ]
    }
   ],
   "source": [
    "import sys\n",
    "sys.path.append(\"/home/ajag/tcdona3\")\n",
    "import math\n",
    "from tcdona2.polatis import Polatis\n",
    "from monitor import RoadmMonitor\n",
    "from ila import ILA\n",
    "from bbsource import BBS\n",
    "import time     \n",
    "import json\n",
    "from utils import *\n",
    "from teraflex import tflex\n"
   ]
  },
  {
   "cell_type": "code",
   "execution_count": 2,
   "metadata": {},
   "outputs": [
    {
     "data": {
      "text/plain": [
       "'\\r\\n\\n   PolatisOXC 24-08-26 13:11:21\\r\\nM  123 COMPLD\\r\\n;'"
      ]
     },
     "execution_count": 2,
     "metadata": {},
     "output_type": "execute_result"
    }
   ],
   "source": [
    "pol = Polatis()\n",
    "pol.login()"
   ]
  },
  {
   "cell_type": "code",
   "execution_count": 3,
   "metadata": {},
   "outputs": [],
   "source": [
    "tf = tflex('10.10.10.92')"
   ]
  },
  {
   "cell_type": "code",
   "execution_count": 7,
   "metadata": {},
   "outputs": [
    {
     "name": "stdout",
     "output_type": "stream",
     "text": [
      "Initializing ROADM Monitoring for lumentum_4...\n",
      "Initializing ROADM Monitoring for lumentum_3...\n",
      "Initializing ROADM Monitoring for lumentum_7...\n",
      "Initializing ROADM Monitoring for lumentum_9...\n",
      "Initializing ROADM Monitoring for lumentum_8...\n",
      "Initializing ROADM Monitoring for lumentum_6...\n",
      "Initializing ROADM Monitoring for lumentum_5...\n"
     ]
    }
   ],
   "source": [
    "monitors = [RoadmMonitor('lumentum_4'), RoadmMonitor('lumentum_3'), RoadmMonitor('lumentum_7'), RoadmMonitor('lumentum_9'), RoadmMonitor('lumentum_8'), RoadmMonitor('lumentum_6'), RoadmMonitor('lumentum_5')]\n",
    "monitor4 = monitors[0]\n",
    "monitor3 = monitors[1]\n",
    "monitor7 = monitors[2]\n",
    "monitor9 = monitors[3]\n",
    "monitor8 = monitors[4]\n",
    "monitor6 = monitors[5]\n",
    "monitor5 = monitors[6]\n",
    "\n",
    "roadms = [monitor.roadm for monitor in monitors]\n",
    "roadm4 = roadms[0]\n",
    "roadm3 = roadms[1]\n",
    "roadm7 = roadms[2]\n",
    "roadm9 = roadms[3]\n",
    "roadm8 = roadms[4]\n",
    "roadm6 = roadms[5]\n",
    "roadm5 = roadms[6]\n",
    "\n",
    "operator_roadms = [roadm3, roadm7, roadm8, roadm9, roadm6, roadm5]\n",
    "user_roadm = roadm4"
   ]
  },
  {
   "cell_type": "code",
   "execution_count": 5,
   "metadata": {},
   "outputs": [],
   "source": [
    "test1_patch_list = [\n",
    "('tf_1', 'roadm_4_p1'), \n",
    "('tf_2', 'roadm_4_p2'), \n",
    "('tf_3', 'roadm_4_p3'), \n",
    "\n",
    "('roadm_4_line', 'fiber_temp_100m'), \n",
    "('fiber_temp_100m', 'roadm_3_line'), \n",
    "\n",
    "('roadm_3_p1', 'fiber_7_510m') ,\n",
    "('fiber_7_510m', 'roadm_7_line'),\n",
    "\n",
    "('roadm_7_p1', 'roadm_7_p1'),\n",
    "\n",
    "('roadm_7_line', 'fiber_19_12646m'),\n",
    "('fiber_19_12646m', 'roadm_8_line'),\n",
    "\n",
    "('roadm_8_p1', 'roadm_8_p1'),\n",
    "\n",
    "('roadm_8_line', 'fiber_18_25220m'),\n",
    "('fiber_18_25220m', 'roadm_9_line'),\n",
    "\n",
    "('roadm_9_p1', 'roadm_9_p1'),\n",
    "\n",
    "('roadm_9_line', 'fiber_22_25332m'),\n",
    "('fiber_22_25332m', 'roadm_6_line'),\n",
    "\n",
    "('roadm_6_p1', 'roadm_6_p1'),\n",
    "\n",
    "('roadm_6_line', 'fiber_17_665m'),\n",
    "('fiber_17_665m', 'fiber_p1b_394m'),\n",
    "('fiber_p1b_394m', 'roadm_5_line'),\n",
    "\n",
    "('roadm_5_p1', 'roadm_5_p1'),\n",
    "\n",
    "('roadm_5_line', 'fiber_15_11895m'),\n",
    "('fiber_15_11895m', 'roadm_3_p1'),\n",
    "\n",
    "('roadm_3_line', 'fiber_temp_268m'), \n",
    "('fiber_temp_268m', 'roadm_4_line'), \n",
    "\n",
    "('roadm_4_p1', 'tf_1'),\n",
    "('roadm_4_p2', 'tf_2'), \n",
    "('roadm_4_p3', 'tf_3'), \n",
    "\n",
    "# ('roadm_4_p4', 'PH-AROF-1'), ## need to add 2 # disabling this for now\n",
    "]"
   ]
  },
  {
   "cell_type": "code",
   "execution_count": 6,
   "metadata": {},
   "outputs": [
    {
     "name": "stdout",
     "output_type": "stream",
     "text": [
      "tf_1 (1): -0.26 dBm ---> roadm_4_p1 (427): -1.88 dBm < 20.00 dBm\n",
      "tf_2 (2): 0.09 dBm ---> roadm_4_p2 (433): -1.74 dBm < 20.00 dBm\n",
      "tf_3 (3): -0.08 dBm ---> roadm_4_p3 (434): -1.62 dBm < 20.00 dBm\n",
      "roadm_4_line (214): 4.06 dBm ---> fiber_temp_100m (401): 2.70 dBm < 20.00 dBm\n",
      "fiber_temp_100m (81): 2.22 dBm ---> roadm_3_line (535): 0.73 dBm < 20.00 dBm\n",
      "roadm_3_p1 (106): 2.57 dBm ---> fiber_7_510m (359): 1.19 dBm < 20.00 dBm\n",
      "fiber_7_510m (39): 0.36 dBm ---> roadm_7_line (531): -1.32 dBm < 20.00 dBm\n",
      "roadm_7_p1 (110): -2.77 dBm ---> roadm_7_p1 (430): -3.99 dBm < 20.00 dBm\n",
      "roadm_7_line (211): -2.53 dBm ---> fiber_19_12646m (375): -3.82 dBm < 20.00 dBm\n",
      "fiber_19_12646m (55): -7.07 dBm ---> roadm_8_line (530): -8.70 dBm < 20.00 dBm\n",
      "roadm_8_p1 (111): -7.07 dBm ---> roadm_8_p1 (431): -8.53 dBm < 20.00 dBm\n",
      "roadm_8_line (210): -6.69 dBm ---> fiber_18_25220m (374): -8.08 dBm < 20.00 dBm\n",
      "fiber_18_25220m (54): -14.64 dBm ---> roadm_9_line (529): -16.17 dBm < 20.00 dBm\n",
      "roadm_9_p1 (112): -13.94 dBm ---> roadm_9_p1 (432): -15.40 dBm < 20.00 dBm\n",
      "roadm_9_line (209): -10.44 dBm ---> fiber_22_25332m (378): -12.18 dBm < 20.00 dBm\n",
      "fiber_22_25332m (58): -18.57 dBm ---> roadm_6_line (532): -20.15 dBm < 20.00 dBm\n",
      "roadm_6_p1 (109): -15.73 dBm ---> roadm_6_p1 (429): -17.04 dBm < 20.00 dBm\n",
      "roadm_6_line (212): -11.08 dBm ---> fiber_17_665m (373): -12.38 dBm < 20.00 dBm\n",
      "fiber_17_665m (53): -13.29 dBm ---> fiber_p1b_394m (384): -14.99 dBm < 20.00 dBm\n",
      "fiber_p1b_394m (64): -15.36 dBm ---> roadm_5_line (533): -16.62 dBm < 20.00 dBm\n",
      "roadm_5_p1 (108): -14.54 dBm ---> roadm_5_p1 (428): -15.78 dBm < 20.00 dBm\n",
      "roadm_5_line (213): -12.05 dBm ---> fiber_15_11895m (371): -13.27 dBm < 20.00 dBm\n",
      "fiber_15_11895m (51): -18.23 dBm ---> roadm_3_p1 (426): -19.70 dBm < 20.00 dBm\n",
      "roadm_3_line (215): -11.54 dBm ---> fiber_temp_268m (383): -13.35 dBm < 20.00 dBm\n",
      "fiber_temp_268m (63): -14.63 dBm ---> roadm_4_line (534): -16.17 dBm < 20.00 dBm\n",
      "roadm_4_p1 (107): -14.65 dBm ---> tf_1 (321): -16.27 dBm < 20.00 dBm\n",
      "roadm_4_p2 (113): -28.45 dBm ---> tf_2 (322): -47.49 dBm < 20.00 dBm\n",
      "roadm_4_p3 (114): -28.44 dBm ---> tf_3 (323): -47.43 dBm < 20.00 dBm\n"
     ]
    }
   ],
   "source": [
    "pol.apply_patch_list(test1_patch_list)"
   ]
  },
  {
   "cell_type": "code",
   "execution_count": 8,
   "metadata": {},
   "outputs": [
    {
     "name": "stdout",
     "output_type": "stream",
     "text": [
      "{'control_mode': 'constant-gain', 'maintenance-state': 'in-service', 'target_power': 15.0, 'target_gain': 10.0, 'target_gain_tilt': 0.0, 'input_power': -9.92, 'output_power': -50.0, 'voa_input_power': -30.43, 'voa_output_power': -44.74, 'voa_attenuation': 15.81}\n",
      "{'control_mode': 'constant-gain', 'maintenance-state': 'in-service', 'target_power': 10.0, 'target_gain': 10.0, 'target_gain_tilt': 0.0, 'input_power': -50.0, 'output_power': -50.0, 'voa_input_power': -8.01, 'voa_output_power': -28.19, 'voa_attenuation': 20.18}\n",
      "{'control_mode': 'constant-gain', 'maintenance-state': 'in-service', 'target_power': 0.0, 'target_gain': 20.0, 'target_gain_tilt': 0.0, 'input_power': -50.0, 'output_power': -50.0, 'voa_input_power': -38.78, 'voa_output_power': -50.5, 'voa_attenuation': 9.94}\n",
      "{'control_mode': 'constant-gain', 'maintenance-state': 'in-service', 'target_power': 20.0, 'target_gain': 15.0, 'target_gain_tilt': 0.0, 'input_power': -50.0, 'output_power': -8.69, 'voa_input_power': -6.69, 'voa_output_power': -21.78, 'voa_attenuation': 15.09}\n",
      "{'control_mode': 'constant-gain', 'maintenance-state': 'in-service', 'target_power': 1.0, 'target_gain': 10.0, 'target_gain_tilt': 0.0, 'input_power': -30.59, 'output_power': -50.0, 'voa_input_power': -35.54, 'voa_output_power': -46.23, 'voa_attenuation': 10.61}\n",
      "{'control_mode': 'constant-gain', 'maintenance-state': 'in-service', 'target_power': 1.0, 'target_gain': 10.0, 'target_gain_tilt': 0.0, 'input_power': -23.33, 'output_power': -8.96, 'voa_input_power': -10.39, 'voa_output_power': -20.98, 'voa_attenuation': 10.6}\n",
      "{'control_mode': 'constant-gain', 'maintenance-state': 'in-service', 'target_power': -3.0, 'target_gain': 10.0, 'target_gain_tilt': 0.0, 'input_power': -50.0, 'output_power': -50.0, 'voa_input_power': -36.89, 'voa_output_power': -46.41, 'voa_attenuation': 9.22}\n",
      "{'control_mode': 'constant-gain', 'maintenance-state': 'in-service', 'target_power': -0.5, 'target_gain': 10.0, 'target_gain_tilt': 0.0, 'input_power': -50.0, 'output_power': -50.0, 'voa_input_power': -35.4, 'voa_output_power': -48.01, 'voa_attenuation': 14.24}\n",
      "{'control_mode': 'constant-gain', 'maintenance-state': 'in-service', 'target_power': -3.0, 'target_gain': 10.0, 'target_gain_tilt': 0.0, 'input_power': -50.0, 'output_power': -50.0, 'voa_input_power': -39.87, 'voa_output_power': -46.84, 'voa_attenuation': 6.08}\n",
      "{'control_mode': 'constant-gain', 'maintenance-state': 'in-service', 'target_power': -0.5, 'target_gain': 10.0, 'target_gain_tilt': 0.0, 'input_power': -19.83, 'output_power': -50.0, 'voa_input_power': -33.74, 'voa_output_power': -49.06, 'voa_attenuation': 14.96}\n",
      "{'control_mode': 'constant-gain', 'maintenance-state': 'in-service', 'target_power': 10.0, 'target_gain': 10.0, 'target_gain_tilt': 0.0, 'input_power': -27.85, 'output_power': -50.0, 'voa_input_power': -36.11, 'voa_output_power': -44.41, 'voa_attenuation': 6.07}\n",
      "{'control_mode': 'constant-gain', 'maintenance-state': 'in-service', 'target_power': 16.0, 'target_gain': 10.0, 'target_gain_tilt': 0.0, 'input_power': -50.0, 'output_power': -8.51, 'voa_input_power': -5.24, 'voa_output_power': -26.22, 'voa_attenuation': 20.96}\n",
      "{'control_mode': 'constant-gain', 'maintenance-state': 'in-service', 'target_power': 0.0, 'target_gain': 10.0, 'target_gain_tilt': 0.0, 'input_power': -33.56, 'output_power': -50.0, 'voa_input_power': -38.27, 'voa_output_power': -45.73, 'voa_attenuation': 8.53}\n",
      "{'control_mode': 'constant-gain', 'maintenance-state': 'in-service', 'target_power': 15.0, 'target_gain': 10.0, 'target_gain_tilt': 0.0, 'input_power': -50.0, 'output_power': -50.0, 'voa_input_power': -14.92, 'voa_output_power': -26.21, 'voa_attenuation': 11.26}\n"
     ]
    }
   ],
   "source": [
    "## This block only needs to execte once for the experiment. Caution: Do not run this many times\n",
    "\n",
    "# for roadm in roadms:\n",
    "#     roadm.edfa_config('booster', target_gain=10.0, control_mode='constant-gain')\n",
    "#     roadm.edfa_config('preamp', target_gain=10.0, control_mode='constant-gain')\n",
    "\n",
    "# time.sleep(30)\n",
    "\n",
    "# for roadm in roadms:\n",
    "#     roadm.make_grid('both', list(range(1,96)))\n",
    "\n",
    "# time.sleep(30)\n",
    "\n",
    "# for roadm in roadms:\n",
    "#     roadm.disable_als(600)"
   ]
  },
  {
   "cell_type": "code",
   "execution_count": 12,
   "metadata": {},
   "outputs": [
    {
     "data": {
      "text/plain": [
       "30"
      ]
     },
     "execution_count": 12,
     "metadata": {},
     "output_type": "execute_result"
    }
   ],
   "source": [
    "# tf.change_configuration(line_port='1/1/n1', logical_interface='ot200', modulation='dp-16qam', target_power=0.0, fec='sdfec-acacia27-7iterations', central_frequency=192900000)\n",
    "# tf.change_configuration(line_port='1/1/n2', logical_interface='ot200', modulation='dp-16qam', target_power=0.0, fec='sdfec-acacia27-7iterations', central_frequency=193000000)\n",
    "# tf.change_configuration(line_port='1/2/n1', logical_interface='ot200', modulation='dp-16qam', target_power=0.0, fec='sdfec-acacia27-7iterations', central_frequency=193100000)"
   ]
  },
  {
   "cell_type": "code",
   "execution_count": 8,
   "metadata": {},
   "outputs": [],
   "source": [
    "user_grid = {(32):1, (34):2, (36):3}\n",
    "\n",
    "user_roadm_mux_conn = operator_flex_grid_mux_connections(user_roadm, user_grid, open_channels=wdm_channel_list)\n",
    "user_roadm.wss_delete_connection(1, 'all')\n",
    "user_roadm.wss_add_connections(user_roadm_mux_conn)\n",
    "\n",
    "time.sleep(5)\n",
    "\n",
    "user_roadm_demux_conn = operator_flex_grid_demux_connections(user_roadm, user_grid, open_channels=wdm_channel_list)\n",
    "user_roadm.wss_delete_connection(2, 'all')\n",
    "user_roadm.wss_add_connections(user_roadm_demux_conn)"
   ]
  },
  {
   "cell_type": "code",
   "execution_count": 9,
   "metadata": {},
   "outputs": [],
   "source": [
    "osaas_grid = {(30,31,32,33,34,35,36,37,38):1}\n",
    "\n",
    "for roadm in operator_roadms:\n",
    "\n",
    "    demux_conn_list = operator_flex_grid_demux_connections(roadm, osaas_grid, open_channels = wdm_channel_list)\n",
    "    roadm.wss_delete_connection(2, 'all')\n",
    "    roadm.wss_add_connections(demux_conn_list)\n",
    "\n",
    "    time.sleep(5)\n",
    "\n",
    "    conn_list = operator_flex_grid_mux_connections(roadm, osaas_grid, open_channels = wdm_channel_list)\n",
    "    roadm.wss_delete_connection(1, 'all')\n",
    "    roadm.wss_add_connections(conn_list)"
   ]
  },
  {
   "cell_type": "code",
   "execution_count": null,
   "metadata": {},
   "outputs": [],
   "source": []
  }
 ],
 "metadata": {
  "kernelspec": {
   "display_name": "Python 3",
   "language": "python",
   "name": "python3"
  },
  "language_info": {
   "codemirror_mode": {
    "name": "ipython",
    "version": 3
   },
   "file_extension": ".py",
   "mimetype": "text/x-python",
   "name": "python",
   "nbconvert_exporter": "python",
   "pygments_lexer": "ipython3",
   "version": "3.6.9"
  }
 },
 "nbformat": 4,
 "nbformat_minor": 2
}
