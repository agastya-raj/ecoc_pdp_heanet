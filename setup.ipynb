{
 "cells": [
  {
   "cell_type": "code",
   "execution_count": 1,
   "metadata": {},
   "outputs": [
    {
     "name": "stderr",
     "output_type": "stream",
     "text": [
      "Matplotlib created a temporary config/cache directory at /tmp/matplotlib-zknr_h4p because the default path (/home/ajag/.config/matplotlib) is not a writable directory; it is highly recommended to set the MPLCONFIGDIR environment variable to a writable directory, in particular to speed up the import of Matplotlib and to better support multiprocessing.\n"
     ]
    }
   ],
   "source": [
    "import sys\n",
    "sys.path.append(\"/home/ajag/tcdona3\")\n",
    "import math\n",
    "from tcdona2.polatis import Polatis\n",
    "from monitor import RoadmMonitor\n",
    "from ila import ILA\n",
    "from bbsource import BBS\n",
    "import time     \n",
    "import json\n",
    "from utils import *\n",
    "from teraflex import tflex\n"
   ]
  },
  {
   "cell_type": "code",
   "execution_count": 2,
   "metadata": {},
   "outputs": [
    {
     "data": {
      "text/plain": [
       "'\\r\\n\\n   PolatisOXC 24-08-27 00:27:04\\r\\nM  123 COMPLD\\r\\n;'"
      ]
     },
     "execution_count": 2,
     "metadata": {},
     "output_type": "execute_result"
    }
   ],
   "source": [
    "pol = Polatis()\n",
    "pol.login()"
   ]
  },
  {
   "cell_type": "code",
   "execution_count": 3,
   "metadata": {},
   "outputs": [],
   "source": [
    "pol = Polatis()\n",
    "pol.login()\n",
    "\n",
    "tf = tflex('10.10.10.92')"
   ]
  },
  {
   "cell_type": "code",
   "execution_count": 4,
   "metadata": {},
   "outputs": [
    {
     "name": "stdout",
     "output_type": "stream",
     "text": [
      "Initializing ROADM Monitoring for lumentum_4...\n",
      "Initializing ROADM Monitoring for lumentum_3...\n",
      "Initializing ROADM Monitoring for lumentum_7...\n",
      "Initializing ROADM Monitoring for lumentum_9...\n",
      "Initializing ROADM Monitoring for lumentum_8...\n",
      "Initializing ROADM Monitoring for lumentum_6...\n",
      "Initializing ROADM Monitoring for lumentum_5...\n"
     ]
    }
   ],
   "source": [
    "monitors = [RoadmMonitor('lumentum_4'), RoadmMonitor('lumentum_3'), RoadmMonitor('lumentum_7'), RoadmMonitor('lumentum_9'), RoadmMonitor('lumentum_8'), RoadmMonitor('lumentum_6'), RoadmMonitor('lumentum_5')]\n",
    "monitor4 = monitors[0]\n",
    "monitor3 = monitors[1]\n",
    "monitor7 = monitors[2]\n",
    "monitor9 = monitors[3]\n",
    "monitor8 = monitors[4]\n",
    "monitor6 = monitors[5]\n",
    "monitor5 = monitors[6]\n",
    "\n",
    "roadms = [monitor.roadm for monitor in monitors]\n",
    "roadm4 = roadms[0]\n",
    "roadm3 = roadms[1]\n",
    "roadm7 = roadms[2]\n",
    "roadm9 = roadms[3]\n",
    "roadm8 = roadms[4]\n",
    "roadm6 = roadms[5]\n",
    "roadm5 = roadms[6]\n",
    "\n",
    "operator_roadms = [roadm3, roadm7, roadm8, roadm9, roadm6, roadm5]\n",
    "user_roadm = roadm4"
   ]
  },
  {
   "cell_type": "code",
   "execution_count": 5,
   "metadata": {},
   "outputs": [
    {
     "name": "stdout",
     "output_type": "stream",
     "text": [
      "tf_1 (1): -4.85 dBm ---> splitter_1_2x2_p1 (545): -6.53 dBm < 20.00 dBm\n",
      "arof_sig (231): -28.41 dBm ---> splitter_1_2x2_p2 (546): -48.25 dBm < 20.00 dBm\n",
      "tf_2 (2): -6.10 dBm ---> roadm_4_p2 (433): -7.93 dBm < 20.00 dBm\n",
      "tf_3 (3): -6.07 dBm ---> roadm_4_p3 (434): -7.62 dBm < 20.00 dBm\n",
      "splitter_1_2x2_p1 (225): -10.54 dBm ---> roadm_4_p1 (427): -12.07 dBm < 20.00 dBm\n",
      "roadm_4_line (214): -28.58 dBm ---> fiber_temp_100m (401): -48.23 dBm < 20.00 dBm\n",
      "fiber_temp_100m (81): -28.31 dBm ---> roadm_3_p1 (426): -47.31 dBm < 20.00 dBm\n",
      "roadm_3_line (215): -28.87 dBm ---> fiber_7_510m (359): -47.09 dBm < 20.00 dBm\n",
      "fiber_7_510m (39): -28.27 dBm ---> roadm_7_line (531): -48.33 dBm < 20.00 dBm\n",
      "roadm_7_p1 (110): -18.86 dBm ---> roadm_7_p1 (430): -20.04 dBm < 20.00 dBm\n",
      "roadm_7_line (211): -28.14 dBm ---> fiber_19_12646m (375): -47.76 dBm < 20.00 dBm\n",
      "fiber_19_12646m (55): -28.26 dBm ---> roadm_8_line (530): -48.54 dBm < 20.00 dBm\n",
      "roadm_8_p1 (111): -28.48 dBm ---> roadm_8_p1 (431): -48.59 dBm < 20.00 dBm\n",
      "roadm_8_line (210): -28.45 dBm ---> fiber_18_25220m (374): -47.79 dBm < 20.00 dBm\n",
      "fiber_18_25220m (54): -27.93 dBm ---> roadm_9_line (529): -48.14 dBm < 20.00 dBm\n",
      "roadm_9_p1 (112): -28.32 dBm ---> roadm_9_p1 (432): -48.33 dBm < 20.00 dBm\n",
      "roadm_9_line (209): -28.22 dBm ---> fiber_22_25332m (378): -47.74 dBm < 20.00 dBm\n",
      "fiber_22_25332m (58): -28.58 dBm ---> roadm_6_line (532): -48.33 dBm < 20.00 dBm\n",
      "roadm_6_p1 (109): -14.18 dBm ---> roadm_6_p1 (429): -15.46 dBm < 20.00 dBm\n",
      "roadm_6_line (212): -28.64 dBm ---> fiber_17_665m (373): -48.18 dBm < 20.00 dBm\n",
      "fiber_17_665m (53): -28.10 dBm ---> fiber_p1b_394m (384): -46.77 dBm < 20.00 dBm\n",
      "fiber_p1b_394m (64): -28.33 dBm ---> roadm_5_line (533): -48.43 dBm < 20.00 dBm\n",
      "roadm_5_p1 (108): -20.23 dBm ---> roadm_5_p1 (428): -21.44 dBm < 20.00 dBm\n",
      "roadm_5_line (213): -29.01 dBm ---> fiber_15_11895m (371): -46.69 dBm < 20.00 dBm\n",
      "fiber_15_11895m (51): -28.44 dBm ---> roadm_3_line (535): -47.76 dBm < 20.00 dBm\n",
      "roadm_3_p1 (106): -15.21 dBm ---> fiber_temp_268m (383): -16.89 dBm < 20.00 dBm\n",
      "fiber_temp_268m (63): -18.13 dBm ---> roadm_4_line (534): -19.71 dBm < 20.00 dBm\n",
      "roadm_4_p1 (107): -28.92 dBm ---> tf_1 (321): -33.51 dBm < 20.00 dBm\n",
      "roadm_4_p2 (113): -28.52 dBm ---> tf_2 (322): -32.14 dBm < 20.00 dBm\n",
      "roadm_4_p3 (114): -28.52 dBm ---> tf_3 (323): -32.04 dBm < 20.00 dBm\n"
     ]
    }
   ],
   "source": [
    "pol.apply_patch_list(test1_patch_list)"
   ]
  },
  {
   "cell_type": "code",
   "execution_count": 12,
   "metadata": {},
   "outputs": [
    {
     "name": "stdout",
     "output_type": "stream",
     "text": [
      "#\tComponent\tI/O\tPort\tPower (dBm)\n",
      "0\ttf_1\tOut\t1\t-4.87\n",
      "1\tsplitter_1_2x2_p1\tIn\t545\t-6.51\n"
     ]
    },
    {
     "name": "stdout",
     "output_type": "stream",
     "text": [
      "2\tarof_sig\tOut\t231\t-28.4\n",
      "3\tsplitter_1_2x2_p2\tIn\t546\t-48.26\n",
      "4\ttf_2\tOut\t2\t-6.11\n",
      "5\troadm_4_p2\tIn\t433\t-7.94\n",
      "6\ttf_3\tOut\t3\t-6.03\n",
      "7\troadm_4_p3\tIn\t434\t-7.62\n",
      "8\tsplitter_1_2x2_p1\tOut\t225\t-10.52\n",
      "9\troadm_4_p1\tIn\t427\t-12.06\n",
      "10\troadm_4_line\tOut\t214\t4.1\n",
      "11\tfiber_temp_100m\tIn\t401\t2.71\n",
      "12\tfiber_temp_100m\tOut\t81\t2.27\n",
      "13\troadm_3_p1\tIn\t426\t0.82\n",
      "14\troadm_3_line\tOut\t215\t8.68\n",
      "15\tfiber_7_510m\tIn\t359\t7.03\n",
      "16\tfiber_7_510m\tOut\t39\t6.19\n",
      "17\troadm_7_line\tIn\t531\t4.56\n",
      "18\troadm_7_p1\tOut\t110\t7.1\n",
      "19\troadm_7_p1\tIn\t430\t5.88\n",
      "20\troadm_7_line\tOut\t211\t8.17\n",
      "21\tfiber_19_12646m\tIn\t375\t6.84\n",
      "22\tfiber_19_12646m\tOut\t55\t3.58\n",
      "23\troadm_8_line\tIn\t530\t2.0\n",
      "24\troadm_8_p1\tOut\t111\t7.61\n",
      "25\troadm_8_p1\tIn\t431\t6.14\n",
      "26\troadm_8_line\tOut\t210\t8.19\n",
      "27\tfiber_18_25220m\tIn\t374\t6.77\n",
      "28\tfiber_18_25220m\tOut\t54\t0.21\n",
      "29\troadm_9_line\tIn\t529\t-1.31\n",
      "30\troadm_9_p1\tOut\t112\t4.38\n",
      "31\troadm_9_p1\tIn\t432\t2.88\n",
      "32\troadm_9_line\tOut\t209\t8.35\n",
      "33\tfiber_22_25332m\tIn\t378\t6.65\n",
      "34\tfiber_22_25332m\tOut\t58\t0.21\n",
      "35\troadm_6_line\tIn\t532\t-1.35\n",
      "36\troadm_6_p1\tOut\t109\t3.5\n",
      "37\troadm_6_p1\tIn\t429\t2.23\n",
      "38\troadm_6_line\tOut\t212\t7.64\n",
      "39\tfiber_17_665m\tIn\t373\t6.36\n",
      "40\tfiber_17_665m\tOut\t53\t5.44\n",
      "41\tfiber_p1b_394m\tIn\t384\t3.65\n",
      "42\tfiber_p1b_394m\tOut\t64\t3.3\n",
      "43\troadm_5_line\tIn\t533\t2.04\n",
      "44\troadm_5_p1\tOut\t108\t7.96\n",
      "45\troadm_5_p1\tIn\t428\t6.75\n",
      "46\troadm_5_line\tOut\t213\t7.69\n",
      "47\tfiber_15_11895m\tIn\t371\t6.53\n",
      "48\tfiber_15_11895m\tOut\t51\t1.53\n",
      "49\troadm_3_line\tIn\t535\t0.11\n",
      "50\troadm_3_p1\tOut\t106\t6.03\n",
      "51\tfiber_temp_268m\tIn\t383\t4.4\n",
      "52\tfiber_temp_268m\tOut\t63\t3.06\n",
      "53\troadm_4_line\tIn\t534\t1.57\n",
      "54\troadm_4_p1\tOut\t107\t1.8\n",
      "55\ttf_1\tIn\t321\t0.22\n",
      "56\troadm_4_p2\tOut\t113\t2.35\n",
      "57\ttf_2\tIn\t322\t0.63\n",
      "58\troadm_4_p3\tOut\t114\t-1.88\n",
      "59\ttf_3\tIn\t323\t-3.37\n"
     ]
    }
   ],
   "source": [
    "pol.print_patch_table(test1_patch_list)"
   ]
  },
  {
   "cell_type": "code",
   "execution_count": 2,
   "metadata": {},
   "outputs": [],
   "source": [
    "# This block only needs to execte once for the experiment. Caution: Do not run this many times\n",
    "\n",
    "# for roadm in roadms:\n",
    "#     roadm.edfa_config('booster', target_gain=10.0, control_mode='constant-gain')\n",
    "#     roadm.edfa_config('preamp', target_gain=10.0, control_mode='constant-gain')\n",
    "\n",
    "# time.sleep(30)\n",
    "\n",
    "# for roadm in roadms:\n",
    "#     roadm.make_grid('both', list(range(1,96)))\n",
    "\n",
    "# time.sleep(30)\n",
    "\n",
    "# for roadm in roadms:\n",
    "#     roadm.disable_als(600)"
   ]
  },
  {
   "cell_type": "code",
   "execution_count": 97,
   "metadata": {},
   "outputs": [
    {
     "data": {
      "text/plain": [
       "30"
      ]
     },
     "execution_count": 97,
     "metadata": {},
     "output_type": "execute_result"
    }
   ],
   "source": [
    "# tf.change_configuration(line_port='1/2/n1', logical_interface='ot600', modulation='dp-64qam', target_power=-6.0, fec='sdfec-acacia27-7iterations', central_frequency=193100000)\n",
    "# tf.change_configuration(line_port='1/1/n2', logical_interface='ot600', modulation='dp-64qam', target_power=-6.2, fec='sdfec-acacia27-7iterations', central_frequency=193000000)\n",
    "# tf.change_configuration(line_port='1/1/n1', logical_interface='ot400', modulation='dp-64qam', target_power=-4.6, fec='sdfec-acacia27-7iterations', central_frequency=192900000)"
   ]
  },
  {
   "cell_type": "code",
   "execution_count": 6,
   "metadata": {},
   "outputs": [],
   "source": [
    "for roadm in roadms:\n",
    "    roadm.disable_als(600)"
   ]
  },
  {
   "cell_type": "code",
   "execution_count": 11,
   "metadata": {},
   "outputs": [],
   "source": [
    "# user_grid = {(32):1, (34):2, (36):3}\n",
    "\n",
    "# user_roadm_mux_conn = operator_flex_grid_mux_connections(user_roadm, user_grid, open_channels=wdm_channel_list, loss=0.0)\n",
    "# user_roadm.wss_delete_connection(1, 'all')\n",
    "# user_roadm.wss_add_connections(user_roadm_mux_conn)\n",
    "\n",
    "# time.sleep(5)\n",
    "\n",
    "# user_roadm_demux_conn = operator_flex_grid_demux_connections(user_roadm, user_grid, open_channels=wdm_channel_list, loss=0.0)\n",
    "# user_roadm.wss_delete_connection(2, 'all')\n",
    "# user_roadm.wss_add_connections(user_roadm_demux_conn)"
   ]
  },
  {
   "cell_type": "code",
   "execution_count": 12,
   "metadata": {},
   "outputs": [],
   "source": [
    "# osaas_grid = {(30,31,32,33,34,35,36,37,38):1}\n",
    "\n",
    "# for roadm in operator_roadms:\n",
    "\n",
    "#     demux_conn_list = operator_flex_grid_demux_connections(roadm, osaas_grid, open_channels = wdm_channel_list, loss=0.0)\n",
    "#     roadm.wss_delete_connection(2, 'all')\n",
    "#     roadm.wss_add_connections(demux_conn_list)\n",
    "\n",
    "# time.sleep(5)\n",
    "\n",
    "# user_roadm_demux_conn = operator_flex_grid_demux_connections(user_roadm, user_grid, open_channels=wdm_channel_list, loss=0.0, default_port=4)\n",
    "# user_roadm.wss_delete_connection(2, 'all')\n",
    "# user_roadm.wss_add_connections(user_roadm_demux_conn)"
   ]
  },
  {
   "cell_type": "code",
   "execution_count": 5,
   "metadata": {},
   "outputs": [
    {
     "name": "stdout",
     "output_type": "stream",
     "text": [
      "{'control_mode': 'constant-gain', 'maintenance-state': 'in-service', 'target_power': 15.0, 'target_gain': 7.0, 'target_gain_tilt': 0.0, 'input_power': -7.5, 'output_power': -0.24, 'voa_input_power': 0.85, 'voa_output_power': -15.7, 'voa_attenuation': 16.55}\n"
     ]
    }
   ],
   "source": [
    "roadm4.edfa_config('booster', target_gain=7.0, control_mode='constant-gain')"
   ]
  },
  {
   "cell_type": "code",
   "execution_count": 6,
   "metadata": {},
   "outputs": [
    {
     "name": "stdout",
     "output_type": "stream",
     "text": [
      "{'control_mode': 'constant-gain', 'maintenance-state': 'in-service', 'target_power': 20.0, 'target_gain': 12.5, 'target_gain_tilt': 0.0, 'input_power': -4.58, 'output_power': 7.99, 'voa_input_power': 5.29, 'voa_output_power': -12.27, 'voa_attenuation': 17.56}\n"
     ]
    }
   ],
   "source": [
    "roadm3.edfa_config('preamp', target_gain=10.0, control_mode='constant-gain')"
   ]
  },
  {
   "cell_type": "code",
   "execution_count": 36,
   "metadata": {},
   "outputs": [
    {
     "name": "stdout",
     "output_type": "stream",
     "text": [
      "{'control_mode': 'constant-gain', 'maintenance-state': 'in-service', 'target_power': 1.0, 'target_gain': 9.0, 'target_gain_tilt': 0.0, 'input_power': -5.47, 'output_power': 3.62, 'voa_input_power': 1.49, 'voa_output_power': -3.64, 'voa_attenuation': 5.15}\n"
     ]
    }
   ],
   "source": [
    "roadm7.edfa_config('booster', target_gain=7.0, control_mode='constant-gain')"
   ]
  },
  {
   "cell_type": "code",
   "execution_count": 41,
   "metadata": {},
   "outputs": [
    {
     "name": "stdout",
     "output_type": "stream",
     "text": [
      "{'control_mode': 'constant-gain', 'maintenance-state': 'in-service', 'target_power': -3.0, 'target_gain': 11.0, 'target_gain_tilt': 0.0, 'input_power': -4.63, 'output_power': 6.39, 'voa_input_power': 3.8, 'voa_output_power': -0.1, 'voa_attenuation': 3.89}\n"
     ]
    }
   ],
   "source": [
    "roadm8.edfa_config('booster', target_gain=6.5, control_mode='constant-gain')"
   ]
  },
  {
   "cell_type": "code",
   "execution_count": 44,
   "metadata": {},
   "outputs": [
    {
     "name": "stdout",
     "output_type": "stream",
     "text": [
      "{'control_mode': 'constant-gain', 'maintenance-state': 'in-service', 'target_power': -3.0, 'target_gain': 10.5, 'target_gain_tilt': 0.0, 'input_power': -8.7, 'output_power': 1.98, 'voa_input_power': -0.71, 'voa_output_power': -4.42, 'voa_attenuation': 3.72}\n"
     ]
    }
   ],
   "source": [
    "roadm9.edfa_config('booster', target_gain=10.7, control_mode='constant-gain')"
   ]
  },
  {
   "cell_type": "code",
   "execution_count": 49,
   "metadata": {},
   "outputs": [
    {
     "name": "stdout",
     "output_type": "stream",
     "text": [
      "{'control_mode': 'constant-gain', 'maintenance-state': 'in-service', 'target_power': 10.0, 'target_gain': 10.5, 'target_gain_tilt': 0.0, 'input_power': -8.29, 'output_power': 2.37, 'voa_input_power': 1.02, 'voa_output_power': -13.46, 'voa_attenuation': 14.47}\n"
     ]
    }
   ],
   "source": [
    "roadm6.edfa_config('booster', target_gain=10.0, control_mode='constant-gain')"
   ]
  },
  {
   "cell_type": "code",
   "execution_count": 53,
   "metadata": {},
   "outputs": [
    {
     "name": "stdout",
     "output_type": "stream",
     "text": [
      "{'control_mode': 'constant-gain', 'maintenance-state': 'in-service', 'target_power': 0.0, 'target_gain': 6.0, 'target_gain_tilt': 0.0, 'input_power': -3.3, 'output_power': 2.76, 'voa_input_power': 1.5, 'voa_output_power': -7.51, 'voa_attenuation': 9.01}\n"
     ]
    }
   ],
   "source": [
    "roadm5.edfa_config('booster', target_gain=5.0, control_mode='constant-gain')"
   ]
  },
  {
   "cell_type": "code",
   "execution_count": 9,
   "metadata": {},
   "outputs": [
    {
     "name": "stdout",
     "output_type": "stream",
     "text": [
      "{'control_mode': 'constant-gain', 'maintenance-state': 'in-service', 'target_power': 0.0, 'target_gain': 11.0, 'target_gain_tilt': 0.0, 'input_power': -10.01, 'output_power': 1.16, 'voa_input_power': 0.32, 'voa_output_power': -12.5, 'voa_attenuation': 12.85}\n"
     ]
    }
   ],
   "source": [
    "roadm3.edfa_config('booster', target_gain=12.0, control_mode='constant-gain')"
   ]
  },
  {
   "cell_type": "code",
   "execution_count": 94,
   "metadata": {},
   "outputs": [
    {
     "name": "stdout",
     "output_type": "stream",
     "text": [
      "{'control_mode': 'constant-gain', 'maintenance-state': 'in-service', 'target_power': 15.0, 'target_gain': 15.0, 'target_gain_tilt': 0.0, 'input_power': -7.26, 'output_power': 7.79, 'voa_input_power': 2.35, 'voa_output_power': -6.36, 'voa_attenuation': 8.71}\n"
     ]
    }
   ],
   "source": [
    "roadm4.edfa_config('booster', target_gain=13.0, control_mode='constant-gain')"
   ]
  },
  {
   "cell_type": "code",
   "execution_count": 8,
   "metadata": {},
   "outputs": [
    {
     "data": {
      "text/plain": [
       "[(1, -3.2), (2, 1.2), (3, 1.0)]"
      ]
     },
     "execution_count": 8,
     "metadata": {},
     "output_type": "execute_result"
    }
   ],
   "source": [
    "roadm4.get_mux_monitored_power()"
   ]
  },
  {
   "cell_type": "code",
   "execution_count": 10,
   "metadata": {},
   "outputs": [
    {
     "name": "stdout",
     "output_type": "stream",
     "text": [
      "#\tComponent\tI/O\tPort\tPower (dBm)\n",
      "0\ttf_1\tOut\t1\t-4.84\n",
      "1\tsplitter_1_2x2_p1\tIn\t545\t-6.52\n",
      "2\tarof_sig\tOut\t231\t-28.4\n",
      "3\tsplitter_1_2x2_p2\tIn\t546\t-48.28\n",
      "4\ttf_2\tOut\t2\t-6.1\n",
      "5\troadm_4_p2\tIn\t433\t-7.93\n"
     ]
    },
    {
     "name": "stdout",
     "output_type": "stream",
     "text": [
      "6\ttf_3\tOut\t3\t-6.04\n",
      "7\troadm_4_p3\tIn\t434\t-7.63\n",
      "8\tsplitter_1_2x2_p1\tOut\t225\t-10.55\n",
      "9\troadm_4_p1\tIn\t427\t-12.06\n",
      "10\troadm_4_line\tOut\t214\t4.07\n",
      "11\tfiber_temp_100m\tIn\t401\t2.72\n",
      "12\tfiber_temp_100m\tOut\t81\t2.27\n",
      "13\troadm_3_p1\tIn\t426\t0.82\n",
      "14\troadm_3_line\tOut\t215\t8.67\n",
      "15\tfiber_7_510m\tIn\t359\t7.01\n",
      "16\tfiber_7_510m\tOut\t39\t6.19\n",
      "17\troadm_7_line\tIn\t531\t4.53\n",
      "18\troadm_7_p1\tOut\t110\t7.06\n",
      "19\troadm_7_p1\tIn\t430\t5.84\n",
      "20\troadm_7_line\tOut\t211\t8.15\n",
      "21\tfiber_19_12646m\tIn\t375\t6.82\n",
      "22\tfiber_19_12646m\tOut\t55\t3.56\n",
      "23\troadm_8_line\tIn\t530\t1.96\n",
      "24\troadm_8_p1\tOut\t111\t7.57\n",
      "25\troadm_8_p1\tIn\t431\t6.1\n",
      "26\troadm_8_line\tOut\t210\t8.13\n",
      "27\tfiber_18_25220m\tIn\t374\t6.74\n",
      "28\tfiber_18_25220m\tOut\t54\t0.18\n",
      "29\troadm_9_line\tIn\t529\t-1.34\n",
      "30\troadm_9_p1\tOut\t112\t4.33\n",
      "31\troadm_9_p1\tIn\t432\t2.84\n",
      "32\troadm_9_line\tOut\t209\t8.31\n",
      "33\tfiber_22_25332m\tIn\t378\t6.59\n",
      "34\tfiber_22_25332m\tOut\t58\t0.12\n",
      "35\troadm_6_line\tIn\t532\t-1.39\n",
      "36\troadm_6_p1\tOut\t109\t3.44\n",
      "37\troadm_6_p1\tIn\t429\t2.21\n",
      "38\troadm_6_line\tOut\t212\t7.57\n",
      "39\tfiber_17_665m\tIn\t373\t6.33\n",
      "40\tfiber_17_665m\tOut\t53\t5.41\n",
      "41\tfiber_p1b_394m\tIn\t384\t3.62\n",
      "42\tfiber_p1b_394m\tOut\t64\t3.23\n",
      "43\troadm_5_line\tIn\t533\t2.0\n",
      "44\troadm_5_p1\tOut\t108\t7.94\n",
      "45\troadm_5_p1\tIn\t428\t6.71\n",
      "46\troadm_5_line\tOut\t213\t7.66\n",
      "47\tfiber_15_11895m\tIn\t371\t6.48\n",
      "48\tfiber_15_11895m\tOut\t51\t1.48\n",
      "49\troadm_3_line\tIn\t535\t0.05\n",
      "50\troadm_3_p1\tOut\t106\t5.94\n",
      "51\tfiber_temp_268m\tIn\t383\t4.37\n",
      "52\tfiber_temp_268m\tOut\t63\t3.04\n",
      "53\troadm_4_line\tIn\t534\t1.52\n",
      "54\troadm_4_p1\tOut\t107\t1.77\n",
      "55\ttf_1\tIn\t321\t0.18\n",
      "56\troadm_4_p2\tOut\t113\t2.31\n",
      "57\ttf_2\tIn\t322\t0.6\n",
      "58\troadm_4_p3\tOut\t114\t-1.93\n",
      "59\ttf_3\tIn\t323\t-3.42\n"
     ]
    }
   ],
   "source": [
    "pol.print_patch_table(patch_list=test1_patch_list)"
   ]
  },
  {
   "cell_type": "code",
   "execution_count": null,
   "metadata": {},
   "outputs": [],
   "source": []
  },
  {
   "cell_type": "code",
   "execution_count": 121,
   "metadata": {},
   "outputs": [],
   "source": [
    "blocked_='false'\n",
    "cur_conn1 = roadm4.WSSConnection(\n",
    "        1, '1', 'in-service', blocked_,\n",
    "        4101, 4201,\n",
    "        str(192865.62),\n",
    "        str(192934.37),\n",
    "        '{:.2f}'.format(0.0),  'CH' + '1'\n",
    "    )\n",
    "\n",
    "cur_conn2 = roadm4.WSSConnection(\n",
    "        1, '2', 'in-service', blocked_,\n",
    "        4102, 4201,\n",
    "        str(192956.25),\n",
    "        str(193043.75),\n",
    "        '{:.2f}'.format(0.0),  'CH' + '2'\n",
    "    )\n",
    "\n",
    "cur_conn3 = roadm4.WSSConnection(\n",
    "        1, '3', 'in-service', blocked_,\n",
    "        4103, 4201,\n",
    "        str(193056.25),\n",
    "        str(193143.75),\n",
    "        '{:.2f}'.format(0.0),  'CH' + '3'\n",
    "    )\n",
    "\n",
    "\n",
    "conn_list = [cur_conn1, cur_conn2, cur_conn3]"
   ]
  },
  {
   "cell_type": "code",
   "execution_count": 122,
   "metadata": {},
   "outputs": [],
   "source": [
    "roadm4.wss_delete_connection(1, 'all')\n",
    "roadm4.wss_add_connections(conn_list)"
   ]
  },
  {
   "cell_type": "code",
   "execution_count": 100,
   "metadata": {},
   "outputs": [],
   "source": [
    "blocked_='false'\n",
    "cur_conn1 = roadm4.WSSConnection(\n",
    "        2, '1', 'in-service', blocked_,\n",
    "        5101, 5203,\n",
    "        str(192856.25),\n",
    "        str(192943.75),\n",
    "        '{:.2f}'.format(0.0),  'CH' + '1'\n",
    "    )\n",
    "\n",
    "cur_conn2 = roadm4.WSSConnection(\n",
    "        2, '2', 'in-service', blocked_,\n",
    "        5101, 5202,\n",
    "        str(192956.25),\n",
    "        str(193043.75),\n",
    "        '{:.2f}'.format(0.0),  'CH' + '2'\n",
    "    )\n",
    "\n",
    "cur_conn3 = roadm4.WSSConnection(\n",
    "        2, '3', 'in-service', blocked_,\n",
    "        5101, 5201,\n",
    "        str(193065.62),\n",
    "        str(193134.37),\n",
    "        '{:.2f}'.format(0.0),  'CH' + '3'\n",
    "    )\n",
    "\n",
    "\n",
    "conn_list = [cur_conn1, cur_conn2, cur_conn3]"
   ]
  },
  {
   "cell_type": "code",
   "execution_count": 101,
   "metadata": {},
   "outputs": [],
   "source": [
    "roadm4.wss_delete_connection(2, 'all')\n",
    "roadm4.wss_add_connections(conn_list)"
   ]
  },
  {
   "cell_type": "code",
   "execution_count": null,
   "metadata": {},
   "outputs": [],
   "source": []
  },
  {
   "cell_type": "code",
   "execution_count": null,
   "metadata": {},
   "outputs": [],
   "source": []
  },
  {
   "cell_type": "code",
   "execution_count": 11,
   "metadata": {},
   "outputs": [
    {
     "name": "stdout",
     "output_type": "stream",
     "text": [
      "Waiting 3 seconds for ROADM measurements to stabilize...\n",
      "\n",
      "ROADM measurements started at 2024-08-26 23:26:29.570844\n"
     ]
    },
    {
     "data": {
      "image/png": "[encoded data removed]",
      "text/plain": [
       "<Figure size 432x324 with 6 Axes>"
      ]
     },
     "metadata": {
      "needs_background": "light"
     },
     "output_type": "display_data"
    }
   ],
   "source": [
    "monitor4.plot_power('all', refresh=True, notebook=True)"
   ]
  },
  {
   "cell_type": "code",
   "execution_count": null,
   "metadata": {},
   "outputs": [],
   "source": []
  },
  {
   "cell_type": "code",
   "execution_count": 67,
   "metadata": {},
   "outputs": [
    {
     "data": {
      "text/plain": [
       "{'ImpTF600g64QNorm_indefinite_sop-tracking': '0',\n",
       " 'CarrierTF_indefinite_opt-rcv-pwr': '-6.2',\n",
       " 'Carrier_15min_opt-rcv-pwr-lo': '-38.9',\n",
       " 'Carrier_15min_opt-rcv-pwr-mean': '-9.0',\n",
       " 'Carrier_15min_opt-rcv-pwr-hi': '-6.1',\n",
       " 'Carrier_24hour_opt-rcv-pwr-lo': '-53.2',\n",
       " 'Carrier_24hour_opt-rcv-pwr-mean': '-11.5',\n",
       " 'Carrier_24hour_opt-rcv-pwr-hi': '-4.6',\n",
       " 'QualityTF_indefinite_carrier-frequency-offset': '-0.005',\n",
       " 'QualityTF_indefinite_q-factor': '6.0',\n",
       " 'QualityTF_indefinite_polarization-dependent-loss': '0.6',\n",
       " 'Quality_15min_carrier-frequency-offset-lo': '-0.019',\n",
       " 'Quality_15min_carrier-frequency-offset-mean': '0.0',\n",
       " 'Quality_15min_carrier-frequency-offset-hi': '0.019',\n",
       " 'Quality_15min_q-factor-lo': '0.0',\n",
       " 'Quality_15min_q-factor-mean': '4.2',\n",
       " 'Quality_15min_q-factor-hi': '6.0',\n",
       " 'Quality_15min_polarization-dependent-loss-lo': '0.0',\n",
       " 'Quality_15min_polarization-dependent-loss-mean': '0.4',\n",
       " 'Quality_15min_polarization-dependent-loss-hi': '1.1',\n",
       " 'Quality_24hour_carrier-frequency-offset-lo': '-0.021',\n",
       " 'Quality_24hour_carrier-frequency-offset-mean': '0.0',\n",
       " 'Quality_24hour_carrier-frequency-offset-hi': '0.019',\n",
       " 'Quality_24hour_q-factor-lo': '0.0',\n",
       " 'Quality_24hour_q-factor-mean': '3.1',\n",
       " 'Quality_24hour_q-factor-hi': '11.3',\n",
       " 'Quality_24hour_polarization-dependent-loss-lo': '0.0',\n",
       " 'Quality_24hour_polarization-dependent-loss-mean': '0.2',\n",
       " 'Quality_24hour_polarization-dependent-loss-hi': '1.1',\n",
       " 'QualityTF600g64Q_indefinite_signal-to-noise-ratio': '17.7',\n",
       " 'QualityTF600g64Q_indefinite_optical-signal-to-noise-ratio': '24.0',\n",
       " 'QualityTF600g64Q_indefinite_differential-group-delay': '2',\n",
       " 'QualityMod_15min_signal-to-noise-ratio-lo': '0.0',\n",
       " 'QualityMod_15min_signal-to-noise-ratio-mean': '15.2',\n",
       " 'QualityMod_15min_signal-to-noise-ratio-hi': '17.9',\n",
       " 'QualityMod_15min_optical-signal-to-noise-ratio-lo': '0.0',\n",
       " 'QualityMod_15min_optical-signal-to-noise-ratio-mean': '21.2',\n",
       " 'QualityMod_15min_optical-signal-to-noise-ratio-hi': '24.1',\n",
       " 'QualityMod_15min_differential-group-delay-lo': '0',\n",
       " 'QualityMod_15min_differential-group-delay-mean': '1',\n",
       " 'QualityMod_15min_differential-group-delay-hi': '3',\n",
       " 'QualityMod_24hour_signal-to-noise-ratio-lo': '0.0',\n",
       " 'QualityMod_24hour_signal-to-noise-ratio-mean': '13.5',\n",
       " 'QualityMod_24hour_signal-to-noise-ratio-hi': '20.4',\n",
       " 'QualityMod_24hour_optical-signal-to-noise-ratio-lo': '0.0',\n",
       " 'QualityMod_24hour_optical-signal-to-noise-ratio-mean': '26.4',\n",
       " 'QualityMod_24hour_optical-signal-to-noise-ratio-hi': '37.9',\n",
       " 'QualityMod_24hour_differential-group-delay-lo': '0',\n",
       " 'QualityMod_24hour_differential-group-delay-mean': '0',\n",
       " 'QualityMod_24hour_differential-group-delay-hi': '3',\n",
       " 'ImpCdc_15min_chromatic-dispersion-compensation-lo': '-1303',\n",
       " 'ImpCdc_15min_chromatic-dispersion-compensation-mean': '-697',\n",
       " 'ImpCdc_15min_chromatic-dispersion-compensation-hi': '0',\n",
       " 'ImpCdc_24hour_chromatic-dispersion-compensation-lo': '-1309',\n",
       " 'ImpCdc_24hour_chromatic-dispersion-compensation-mean': '-321',\n",
       " 'ImpCdc_24hour_chromatic-dispersion-compensation-hi': '4',\n",
       " 'Impairments_15min_sop-tracking-lo': '0',\n",
       " 'Impairments_15min_sop-tracking-mean': '8',\n",
       " 'Impairments_15min_sop-tracking-hi': '73',\n",
       " 'Impairments_24hour_sop-tracking-lo': '0',\n",
       " 'Impairments_24hour_sop-tracking-mean': '2',\n",
       " 'Impairments_24hour_sop-tracking-hi': '97',\n",
       " 'ImpTF64QCdcRange2_indefinite_chromatic-dispersion-compensation': '-1303'}"
      ]
     },
     "execution_count": 67,
     "metadata": {},
     "output_type": "execute_result"
    }
   ],
   "source": [
    "tf.read_pm_data(10, '1/1/n1')"
   ]
  },
  {
   "cell_type": "code",
   "execution_count": 68,
   "metadata": {},
   "outputs": [
    {
     "data": {
      "text/plain": [
       "{'ImpTF600g64QNorm_indefinite_sop-tracking': '45',\n",
       " 'CarrierTF_indefinite_opt-rcv-pwr': '-5.9',\n",
       " 'Carrier_15min_opt-rcv-pwr-lo': '-52.2',\n",
       " 'Carrier_15min_opt-rcv-pwr-mean': '-10.7',\n",
       " 'Carrier_15min_opt-rcv-pwr-hi': '-5.7',\n",
       " 'Carrier_24hour_opt-rcv-pwr-lo': '-52.3',\n",
       " 'Carrier_24hour_opt-rcv-pwr-mean': '-17.3',\n",
       " 'Carrier_24hour_opt-rcv-pwr-hi': '-5.7',\n",
       " 'QualityTF_indefinite_carrier-frequency-offset': '-0.007',\n",
       " 'QualityTF_indefinite_q-factor': '6.0',\n",
       " 'QualityTF_indefinite_polarization-dependent-loss': '0.7',\n",
       " 'Quality_15min_carrier-frequency-offset-lo': '-0.02',\n",
       " 'Quality_15min_carrier-frequency-offset-mean': '0.0',\n",
       " 'Quality_15min_carrier-frequency-offset-hi': '0.018',\n",
       " 'Quality_15min_q-factor-lo': '0.0',\n",
       " 'Quality_15min_q-factor-mean': '3.9',\n",
       " 'Quality_15min_q-factor-hi': '6.0',\n",
       " 'Quality_15min_polarization-dependent-loss-lo': '0.0',\n",
       " 'Quality_15min_polarization-dependent-loss-mean': '0.3',\n",
       " 'Quality_15min_polarization-dependent-loss-hi': '1.3',\n",
       " 'Quality_24hour_carrier-frequency-offset-lo': '-0.02',\n",
       " 'Quality_24hour_carrier-frequency-offset-mean': '0.0',\n",
       " 'Quality_24hour_carrier-frequency-offset-hi': '0.018',\n",
       " 'Quality_24hour_q-factor-lo': '0.0',\n",
       " 'Quality_24hour_q-factor-mean': '0.8',\n",
       " 'Quality_24hour_q-factor-hi': '6.0',\n",
       " 'Quality_24hour_polarization-dependent-loss-lo': '0.0',\n",
       " 'Quality_24hour_polarization-dependent-loss-mean': '0.0',\n",
       " 'Quality_24hour_polarization-dependent-loss-hi': '1.3',\n",
       " 'QualityTF600g64Q_indefinite_signal-to-noise-ratio': '17.7',\n",
       " 'QualityTF600g64Q_indefinite_optical-signal-to-noise-ratio': '23.7',\n",
       " 'QualityTF600g64Q_indefinite_differential-group-delay': '2',\n",
       " 'QualityMod_15min_signal-to-noise-ratio-lo': '0.0',\n",
       " 'QualityMod_15min_signal-to-noise-ratio-mean': '14.7',\n",
       " 'QualityMod_15min_signal-to-noise-ratio-hi': '17.8',\n",
       " 'QualityMod_15min_optical-signal-to-noise-ratio-lo': '0.0',\n",
       " 'QualityMod_15min_optical-signal-to-noise-ratio-mean': '19.0',\n",
       " 'QualityMod_15min_optical-signal-to-noise-ratio-hi': '24.0',\n",
       " 'QualityMod_15min_differential-group-delay-lo': '0',\n",
       " 'QualityMod_15min_differential-group-delay-mean': '0',\n",
       " 'QualityMod_15min_differential-group-delay-hi': '2',\n",
       " 'QualityMod_24hour_signal-to-noise-ratio-lo': '0.0',\n",
       " 'QualityMod_24hour_signal-to-noise-ratio-mean': '6.8',\n",
       " 'QualityMod_24hour_signal-to-noise-ratio-hi': '17.9',\n",
       " 'QualityMod_24hour_optical-signal-to-noise-ratio-lo': '0.0',\n",
       " 'QualityMod_24hour_optical-signal-to-noise-ratio-mean': '12.0',\n",
       " 'QualityMod_24hour_optical-signal-to-noise-ratio-hi': '24.0',\n",
       " 'QualityMod_24hour_differential-group-delay-lo': '0',\n",
       " 'QualityMod_24hour_differential-group-delay-mean': '0',\n",
       " 'QualityMod_24hour_differential-group-delay-hi': '3',\n",
       " 'ImpCdc_15min_chromatic-dispersion-compensation-lo': '-1302',\n",
       " 'ImpCdc_15min_chromatic-dispersion-compensation-mean': '-633',\n",
       " 'ImpCdc_15min_chromatic-dispersion-compensation-hi': '0',\n",
       " 'ImpCdc_24hour_chromatic-dispersion-compensation-lo': '-1304',\n",
       " 'ImpCdc_24hour_chromatic-dispersion-compensation-mean': '-83',\n",
       " 'ImpCdc_24hour_chromatic-dispersion-compensation-hi': '0',\n",
       " 'Impairments_15min_sop-tracking-lo': '0',\n",
       " 'Impairments_15min_sop-tracking-mean': '5',\n",
       " 'Impairments_15min_sop-tracking-hi': '86',\n",
       " 'Impairments_24hour_sop-tracking-lo': '0',\n",
       " 'Impairments_24hour_sop-tracking-mean': '1',\n",
       " 'Impairments_24hour_sop-tracking-hi': '100',\n",
       " 'ImpTF64QCdcRange2_indefinite_chromatic-dispersion-compensation': '-1299'}"
      ]
     },
     "execution_count": 68,
     "metadata": {},
     "output_type": "execute_result"
    }
   ],
   "source": [
    "tf.read_pm_data(10, '1/1/n2')"
   ]
  },
  {
   "cell_type": "code",
   "execution_count": 69,
   "metadata": {},
   "outputs": [
    {
     "data": {
      "text/plain": [
       "{'ImpTF400g64QNorm_indefinite_sop-tracking': '0',\n",
       " 'CarrierTF_indefinite_opt-rcv-pwr': '-6.7',\n",
       " 'Carrier_15min_opt-rcv-pwr-lo': '-49.9',\n",
       " 'Carrier_15min_opt-rcv-pwr-mean': '-10.9',\n",
       " 'Carrier_15min_opt-rcv-pwr-hi': '-6.5',\n",
       " 'Carrier_24hour_opt-rcv-pwr-lo': '-50.0',\n",
       " 'Carrier_24hour_opt-rcv-pwr-mean': '-8.2',\n",
       " 'Carrier_24hour_opt-rcv-pwr-hi': '-6.3',\n",
       " 'QualityTF_indefinite_carrier-frequency-offset': '0.005',\n",
       " 'QualityTF_indefinite_q-factor': '6.0',\n",
       " 'QualityTF_indefinite_polarization-dependent-loss': '0.9',\n",
       " 'Quality_15min_carrier-frequency-offset-lo': '-0.017',\n",
       " 'Quality_15min_carrier-frequency-offset-mean': '0.0',\n",
       " 'Quality_15min_carrier-frequency-offset-hi': '0.015',\n",
       " 'Quality_15min_q-factor-lo': '0.0',\n",
       " 'Quality_15min_q-factor-mean': '4.1',\n",
       " 'Quality_15min_q-factor-hi': '6.0',\n",
       " 'Quality_15min_polarization-dependent-loss-lo': '0.0',\n",
       " 'Quality_15min_polarization-dependent-loss-mean': '0.4',\n",
       " 'Quality_15min_polarization-dependent-loss-hi': '1.1',\n",
       " 'Quality_24hour_carrier-frequency-offset-lo': '-0.018',\n",
       " 'Quality_24hour_carrier-frequency-offset-mean': '0.0',\n",
       " 'Quality_24hour_carrier-frequency-offset-hi': '0.017',\n",
       " 'Quality_24hour_q-factor-lo': '0.0',\n",
       " 'Quality_24hour_q-factor-mean': '5.1',\n",
       " 'Quality_24hour_q-factor-hi': '10.7',\n",
       " 'Quality_24hour_polarization-dependent-loss-lo': '0.0',\n",
       " 'Quality_24hour_polarization-dependent-loss-mean': '0.4',\n",
       " 'Quality_24hour_polarization-dependent-loss-hi': '1.4',\n",
       " 'QualityTF400g64Q_indefinite_signal-to-noise-ratio': '18.2',\n",
       " 'QualityTF400g64Q_indefinite_optical-signal-to-noise-ratio': '23.2',\n",
       " 'QualityTF400g64Q_indefinite_differential-group-delay': '2',\n",
       " 'QualityMod_15min_signal-to-noise-ratio-lo': '0.0',\n",
       " 'QualityMod_15min_signal-to-noise-ratio-mean': '15.4',\n",
       " 'QualityMod_15min_signal-to-noise-ratio-hi': '18.3',\n",
       " 'QualityMod_15min_optical-signal-to-noise-ratio-lo': '0.0',\n",
       " 'QualityMod_15min_optical-signal-to-noise-ratio-mean': '19.0',\n",
       " 'QualityMod_15min_optical-signal-to-noise-ratio-hi': '23.4',\n",
       " 'QualityMod_15min_differential-group-delay-lo': '0',\n",
       " 'QualityMod_15min_differential-group-delay-mean': '1',\n",
       " 'QualityMod_15min_differential-group-delay-hi': '4',\n",
       " 'QualityMod_24hour_signal-to-noise-ratio-lo': '0.0',\n",
       " 'QualityMod_24hour_signal-to-noise-ratio-mean': '17.0',\n",
       " 'QualityMod_24hour_signal-to-noise-ratio-hi': '18.4',\n",
       " 'QualityMod_24hour_optical-signal-to-noise-ratio-lo': '0.0',\n",
       " 'QualityMod_24hour_optical-signal-to-noise-ratio-mean': '22.1',\n",
       " 'QualityMod_24hour_optical-signal-to-noise-ratio-hi': '35.6',\n",
       " 'QualityMod_24hour_differential-group-delay-lo': '0',\n",
       " 'QualityMod_24hour_differential-group-delay-mean': '0',\n",
       " 'QualityMod_24hour_differential-group-delay-hi': '6',\n",
       " 'ImpCdc_15min_chromatic-dispersion-compensation-lo': '-1303',\n",
       " 'ImpCdc_15min_chromatic-dispersion-compensation-mean': '-682',\n",
       " 'ImpCdc_15min_chromatic-dispersion-compensation-hi': '0',\n",
       " 'ImpCdc_24hour_chromatic-dispersion-compensation-lo': '-1315',\n",
       " 'ImpCdc_24hour_chromatic-dispersion-compensation-mean': '-959',\n",
       " 'ImpCdc_24hour_chromatic-dispersion-compensation-hi': '0',\n",
       " 'Impairments_15min_sop-tracking-lo': '0',\n",
       " 'Impairments_15min_sop-tracking-mean': '8',\n",
       " 'Impairments_15min_sop-tracking-hi': '96',\n",
       " 'Impairments_24hour_sop-tracking-lo': '0',\n",
       " 'Impairments_24hour_sop-tracking-mean': '5',\n",
       " 'Impairments_24hour_sop-tracking-hi': '96',\n",
       " 'ImpTF64QCdcRange2_indefinite_chromatic-dispersion-compensation': '-1287'}"
      ]
     },
     "execution_count": 69,
     "metadata": {},
     "output_type": "execute_result"
    }
   ],
   "source": [
    "tf.read_pm_data(10, '1/2/n1')"
   ]
  },
  {
   "cell_type": "code",
   "execution_count": null,
   "metadata": {},
   "outputs": [],
   "source": []
  },
  {
   "cell_type": "code",
   "execution_count": null,
   "metadata": {},
   "outputs": [],
   "source": []
  }
 ],
 "metadata": {
  "kernelspec": {
   "display_name": "Python 3",
   "language": "python",
   "name": "python3"
  },
  "language_info": {
   "codemirror_mode": {
    "name": "ipython",
    "version": 3
   },
   "file_extension": ".py",
   "mimetype": "text/x-python",
   "name": "python",
   "nbconvert_exporter": "python",
   "pygments_lexer": "ipython3",
   "version": "3.6.9"
  }
 },
 "nbformat": 4,
 "nbformat_minor": 2
}
