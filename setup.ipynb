{
 "cells": [
  {
   "cell_type": "code",
   "execution_count": 3,
   "metadata": {},
   "outputs": [],
   "source": [
    "import sys\n",
    "sys.path.append(\"/home/ajag/tcdona3\")\n",
    "import math\n",
    "from tcdona2.polatis import Polatis\n",
    "from monitor import RoadmMonitor\n",
    "from ila import ILA\n",
    "from bbsource import BBS\n",
    "import time     \n",
    "import json\n",
    "from utils import *\n",
    "from teraflex import tflex\n"
   ]
  },
  {
   "cell_type": "code",
   "execution_count": 4,
   "metadata": {},
   "outputs": [
    {
     "data": {
      "text/plain": [
       "'\\r\\n\\n   PolatisOXC 24-08-26 19:33:21\\r\\nM  123 COMPLD\\r\\n;'"
      ]
     },
     "execution_count": 4,
     "metadata": {},
     "output_type": "execute_result"
    }
   ],
   "source": [
    "pol = Polatis()\n",
    "pol.login()"
   ]
  },
  {
   "cell_type": "code",
   "execution_count": 5,
   "metadata": {},
   "outputs": [],
   "source": [
    "pol = Polatis()\n",
    "pol.login()\n",
    "\n",
    "tf = tflex('10.10.10.92')"
   ]
  },
  {
   "cell_type": "code",
   "execution_count": 6,
   "metadata": {},
   "outputs": [
    {
     "name": "stdout",
     "output_type": "stream",
     "text": [
      "Initializing ROADM Monitoring for lumentum_4...\n",
      "Initializing ROADM Monitoring for lumentum_3...\n",
      "Initializing ROADM Monitoring for lumentum_7...\n",
      "Initializing ROADM Monitoring for lumentum_9...\n",
      "Initializing ROADM Monitoring for lumentum_8...\n",
      "Initializing ROADM Monitoring for lumentum_6...\n",
      "Initializing ROADM Monitoring for lumentum_5...\n"
     ]
    }
   ],
   "source": [
    "monitors = [RoadmMonitor('lumentum_4'), RoadmMonitor('lumentum_3'), RoadmMonitor('lumentum_7'), RoadmMonitor('lumentum_9'), RoadmMonitor('lumentum_8'), RoadmMonitor('lumentum_6'), RoadmMonitor('lumentum_5')]\n",
    "monitor4 = monitors[0]\n",
    "monitor3 = monitors[1]\n",
    "monitor7 = monitors[2]\n",
    "monitor9 = monitors[3]\n",
    "monitor8 = monitors[4]\n",
    "monitor6 = monitors[5]\n",
    "monitor5 = monitors[6]\n",
    "\n",
    "roadms = [monitor.roadm for monitor in monitors]\n",
    "roadm4 = roadms[0]\n",
    "roadm3 = roadms[1]\n",
    "roadm7 = roadms[2]\n",
    "roadm9 = roadms[3]\n",
    "roadm8 = roadms[4]\n",
    "roadm6 = roadms[5]\n",
    "roadm5 = roadms[6]\n",
    "\n",
    "operator_roadms = [roadm3, roadm7, roadm8, roadm9, roadm6, roadm5]\n",
    "user_roadm = roadm4"
   ]
  },
  {
   "cell_type": "code",
   "execution_count": 10,
   "metadata": {},
   "outputs": [
    {
     "name": "stdout",
     "output_type": "stream",
     "text": [
      "tf_1 (1): -4.84 dBm ---> splitter_1_2x2_p1 (545): -6.61 dBm < 20.00 dBm\n",
      "arof_sig (231): -28.41 dBm ---> splitter_1_2x2_p2 (546): -48.01 dBm < 20.00 dBm\n",
      "tf_2 (2): -6.14 dBm ---> roadm_4_p2 (433): -7.92 dBm < 20.00 dBm\n",
      "tf_3 (3): -6.10 dBm ---> roadm_4_p3 (434): -7.70 dBm < 20.00 dBm\n",
      "splitter_1_2x2_p1 (225): -10.68 dBm ---> roadm_4_p1 (427): -12.17 dBm < 20.00 dBm\n",
      "roadm_4_line (214): -28.61 dBm ---> fiber_temp_100m (401): -48.55 dBm < 20.00 dBm\n",
      "fiber_temp_100m (81): -28.31 dBm ---> roadm_3_line (535): -46.66 dBm < 20.00 dBm\n",
      "roadm_3_p1 (106): -15.21 dBm ---> fiber_7_510m (359): -16.63 dBm < 20.00 dBm\n",
      "fiber_7_510m (39): -17.45 dBm ---> roadm_7_line (531): -19.19 dBm < 20.00 dBm\n",
      "roadm_7_p1 (110): -14.50 dBm ---> roadm_7_p1 (430): -15.69 dBm < 20.00 dBm\n",
      "roadm_7_line (211): -11.92 dBm ---> fiber_19_12646m (375): -13.28 dBm < 20.00 dBm\n",
      "fiber_19_12646m (55): -16.54 dBm ---> roadm_8_line (530): -18.08 dBm < 20.00 dBm\n",
      "roadm_8_p1 (111): -11.08 dBm ---> roadm_8_p1 (431): -12.54 dBm < 20.00 dBm\n",
      "roadm_8_line (210): -9.95 dBm ---> fiber_18_25220m (374): -11.39 dBm < 20.00 dBm\n",
      "fiber_18_25220m (54): -17.94 dBm ---> roadm_9_line (529): -19.49 dBm < 20.00 dBm\n",
      "roadm_9_p1 (112): -12.38 dBm ---> roadm_9_p1 (432): -13.85 dBm < 20.00 dBm\n",
      "roadm_9_line (209): -6.97 dBm ---> fiber_22_25332m (378): -8.70 dBm < 20.00 dBm\n",
      "fiber_22_25332m (58): -15.10 dBm ---> roadm_6_line (532): -16.69 dBm < 20.00 dBm\n",
      "roadm_6_p1 (109): -9.88 dBm ---> roadm_6_p1 (429): -11.16 dBm < 20.00 dBm\n",
      "roadm_6_line (212): -5.06 dBm ---> fiber_17_665m (373): -6.31 dBm < 20.00 dBm\n",
      "fiber_17_665m (53): -7.21 dBm ---> fiber_p1b_394m (384): -8.95 dBm < 20.00 dBm\n",
      "fiber_p1b_394m (64): -9.37 dBm ---> roadm_5_line (533): -10.59 dBm < 20.00 dBm\n",
      "roadm_5_p1 (108): -4.63 dBm ---> roadm_5_p1 (428): -5.87 dBm < 20.00 dBm\n",
      "roadm_5_line (213): -4.64 dBm ---> fiber_15_11895m (371): -5.85 dBm < 20.00 dBm\n",
      "fiber_15_11895m (51): -10.83 dBm ---> roadm_3_p1 (426): -12.32 dBm < 20.00 dBm\n",
      "roadm_3_line (215): -28.87 dBm ---> fiber_temp_268m (383): -48.32 dBm < 20.00 dBm\n",
      "fiber_temp_268m (63): -28.06 dBm ---> roadm_4_line (534): -48.80 dBm < 20.00 dBm\n",
      "roadm_4_p1 (107): -28.89 dBm ---> tf_1 (321): -40.79 dBm < 20.00 dBm\n",
      "roadm_4_p2 (113): -28.50 dBm ---> tf_2 (322): -39.47 dBm < 20.00 dBm\n",
      "roadm_4_p3 (114): -28.50 dBm ---> tf_3 (323): -39.22 dBm < 20.00 dBm\n"
     ]
    }
   ],
   "source": [
    "pol.apply_patch_list(test1_patch_list)"
   ]
  },
  {
   "cell_type": "code",
   "execution_count": 11,
   "metadata": {},
   "outputs": [
    {
     "name": "stdout",
     "output_type": "stream",
     "text": [
      "#\tComponent\tI/O\tPort\tPower (dBm)\n",
      "0\ttf_1\tOut\t1\t-4.83\n",
      "1\tsplitter_1_2x2_p1\tIn\t545\t-6.53\n",
      "2\tarof_sig\tOut\t231\t4.62\n",
      "3\tsplitter_1_2x2_p2\tIn\t546\t3.53\n",
      "4\ttf_2\tOut\t2\t-6.1\n",
      "5\troadm_4_p2\tIn\t433\t-8.01\n",
      "6\ttf_3\tOut\t3\t-6.12\n",
      "7\troadm_4_p3\tIn\t434\t-7.65\n",
      "8\tsplitter_1_2x2_p1\tOut\t225\t-0.68\n",
      "9\troadm_4_p1\tIn\t427\t-2.05\n",
      "10\troadm_4_line\tOut\t214\t-28.59\n",
      "11\tfiber_temp_100m\tIn\t401\t-48.23\n",
      "12\tfiber_temp_100m\tOut\t81\t-28.31\n",
      "13\troadm_3_line\tIn\t535\t-46.82\n",
      "14\troadm_3_p1\tOut\t106\t-15.24\n",
      "15\tfiber_7_510m\tIn\t359\t-16.63\n",
      "16\tfiber_7_510m\tOut\t39\t-17.45\n",
      "17\troadm_7_line\tIn\t531\t-19.17\n",
      "18\troadm_7_p1\tOut\t110\t-14.47\n",
      "19\troadm_7_p1\tIn\t430\t-15.69\n",
      "20\troadm_7_line\tOut\t211\t-11.94\n",
      "21\tfiber_19_12646m\tIn\t375\t-13.26\n",
      "22\tfiber_19_12646m\tOut\t55\t-16.52\n",
      "23\troadm_8_line\tIn\t530\t-18.05\n",
      "24\troadm_8_p1\tOut\t111\t-11.06\n",
      "25\troadm_8_p1\tIn\t431\t-12.53\n",
      "26\troadm_8_line\tOut\t210\t-9.94\n",
      "27\tfiber_18_25220m\tIn\t374\t-11.35\n",
      "28\tfiber_18_25220m\tOut\t54\t-17.9\n",
      "29\troadm_9_line\tIn\t529\t-19.43\n",
      "30\troadm_9_p1\tOut\t112\t-12.34\n",
      "31\troadm_9_p1\tIn\t432\t-13.81\n",
      "32\troadm_9_line\tOut\t209\t-6.94\n",
      "33\tfiber_22_25332m\tIn\t378\t-8.64\n",
      "34\tfiber_22_25332m\tOut\t58\t-15.06\n",
      "35\troadm_6_line\tIn\t532\t-16.61\n",
      "36\troadm_6_p1\tOut\t109\t-9.84\n",
      "37\troadm_6_p1\tIn\t429\t-11.11\n",
      "38\troadm_6_line\tOut\t212\t-5.0\n",
      "39\tfiber_17_665m\tIn\t373\t-6.28\n",
      "40\tfiber_17_665m\tOut\t53\t-7.17\n",
      "41\tfiber_p1b_394m\tIn\t384\t-8.93\n",
      "42\tfiber_p1b_394m\tOut\t64\t-9.35\n",
      "43\troadm_5_line\tIn\t533\t-10.58\n",
      "44\troadm_5_p1\tOut\t108\t-4.63\n",
      "45\troadm_5_p1\tIn\t428\t-5.82\n",
      "46\troadm_5_line\tOut\t213\t-4.61\n",
      "47\tfiber_15_11895m\tIn\t371\t-5.79\n",
      "48\tfiber_15_11895m\tOut\t51\t-10.79\n",
      "49\troadm_3_p1\tIn\t426\t-12.23\n",
      "50\troadm_3_line\tOut\t215\t-28.86\n",
      "51\tfiber_temp_268m\tIn\t383\t-48.27\n",
      "52\tfiber_temp_268m\tOut\t63\t-28.06\n",
      "53\troadm_4_line\tIn\t534\t-47.84\n",
      "54\troadm_4_p1\tOut\t107\t-28.89\n",
      "55\ttf_1\tIn\t321\t-40.89\n",
      "56\troadm_4_p2\tOut\t113\t-28.5\n",
      "57\ttf_2\tIn\t322\t-39.38\n",
      "58\troadm_4_p3\tOut\t114\t-28.5\n",
      "59\ttf_3\tIn\t323\t-39.2\n"
     ]
    }
   ],
   "source": [
    "pol.print_patch_table(test1_patch_list)"
   ]
  },
  {
   "cell_type": "code",
   "execution_count": 2,
   "metadata": {},
   "outputs": [],
   "source": [
    "# This block only needs to execte once for the experiment. Caution: Do not run this many times\n",
    "\n",
    "# for roadm in roadms:\n",
    "#     roadm.edfa_config('booster', target_gain=10.0, control_mode='constant-gain')\n",
    "#     roadm.edfa_config('preamp', target_gain=10.0, control_mode='constant-gain')\n",
    "\n",
    "# time.sleep(30)\n",
    "\n",
    "# for roadm in roadms:\n",
    "#     roadm.make_grid('both', list(range(1,96)))\n",
    "\n",
    "# time.sleep(30)\n",
    "\n",
    "# for roadm in roadms:\n",
    "#     roadm.disable_als(600)"
   ]
  },
  {
   "cell_type": "code",
   "execution_count": 97,
   "metadata": {},
   "outputs": [
    {
     "data": {
      "text/plain": [
       "30"
      ]
     },
     "execution_count": 97,
     "metadata": {},
     "output_type": "execute_result"
    }
   ],
   "source": [
    "tf.change_configuration(line_port='1/2/n1', logical_interface='ot600', modulation='dp-64qam', target_power=-6.0, fec='sdfec-acacia27-7iterations', central_frequency=193100000)\n",
    "tf.change_configuration(line_port='1/1/n2', logical_interface='ot600', modulation='dp-64qam', target_power=-6.2, fec='sdfec-acacia27-7iterations', central_frequency=193000000)\n",
    "tf.change_configuration(line_port='1/1/n1', logical_interface='ot400', modulation='dp-64qam', target_power=-6.6, fec='sdfec-acacia27-7iterations', central_frequency=192900000)"
   ]
  },
  {
   "cell_type": "code",
   "execution_count": 7,
   "metadata": {},
   "outputs": [
    {
     "data": {
      "text/plain": [
       "30"
      ]
     },
     "execution_count": 7,
     "metadata": {},
     "output_type": "execute_result"
    }
   ],
   "source": [
    "tf.change_configuration(line_port='1/1/n1', logical_interface='ot400', modulation='dp-64qam', target_power=-4.6, fec='sdfec-acacia27-7iterations', central_frequency=192900000)"
   ]
  },
  {
   "cell_type": "code",
   "execution_count": 7,
   "metadata": {},
   "outputs": [],
   "source": [
    "for roadm in roadms:\n",
    "    roadm.disable_als(600)"
   ]
  },
  {
   "cell_type": "code",
   "execution_count": 11,
   "metadata": {},
   "outputs": [],
   "source": [
    "# user_grid = {(32):1, (34):2, (36):3}\n",
    "\n",
    "# user_roadm_mux_conn = operator_flex_grid_mux_connections(user_roadm, user_grid, open_channels=wdm_channel_list, loss=0.0)\n",
    "# user_roadm.wss_delete_connection(1, 'all')\n",
    "# user_roadm.wss_add_connections(user_roadm_mux_conn)\n",
    "\n",
    "# time.sleep(5)\n",
    "\n",
    "# user_roadm_demux_conn = operator_flex_grid_demux_connections(user_roadm, user_grid, open_channels=wdm_channel_list, loss=0.0)\n",
    "# user_roadm.wss_delete_connection(2, 'all')\n",
    "# user_roadm.wss_add_connections(user_roadm_demux_conn)"
   ]
  },
  {
   "cell_type": "code",
   "execution_count": 12,
   "metadata": {},
   "outputs": [],
   "source": [
    "# osaas_grid = {(30,31,32,33,34,35,36,37,38):1}\n",
    "\n",
    "# for roadm in operator_roadms:\n",
    "\n",
    "#     demux_conn_list = operator_flex_grid_demux_connections(roadm, osaas_grid, open_channels = wdm_channel_list, loss=0.0)\n",
    "#     roadm.wss_delete_connection(2, 'all')\n",
    "#     roadm.wss_add_connections(demux_conn_list)\n",
    "\n",
    "# time.sleep(5)\n",
    "\n",
    "# user_roadm_demux_conn = operator_flex_grid_demux_connections(user_roadm, user_grid, open_channels=wdm_channel_list, loss=0.0, default_port=4)\n",
    "# user_roadm.wss_delete_connection(2, 'all')\n",
    "# user_roadm.wss_add_connections(user_roadm_demux_conn)"
   ]
  },
  {
   "cell_type": "code",
   "execution_count": 5,
   "metadata": {},
   "outputs": [
    {
     "name": "stdout",
     "output_type": "stream",
     "text": [
      "{'control_mode': 'constant-gain', 'maintenance-state': 'in-service', 'target_power': 15.0, 'target_gain': 7.0, 'target_gain_tilt': 0.0, 'input_power': -7.5, 'output_power': -0.24, 'voa_input_power': 0.85, 'voa_output_power': -15.7, 'voa_attenuation': 16.55}\n"
     ]
    }
   ],
   "source": [
    "roadm4.edfa_config('booster', target_gain=7.0, control_mode='constant-gain')"
   ]
  },
  {
   "cell_type": "code",
   "execution_count": 6,
   "metadata": {},
   "outputs": [
    {
     "name": "stdout",
     "output_type": "stream",
     "text": [
      "{'control_mode': 'constant-gain', 'maintenance-state': 'in-service', 'target_power': 20.0, 'target_gain': 12.5, 'target_gain_tilt': 0.0, 'input_power': -4.58, 'output_power': 7.99, 'voa_input_power': 5.29, 'voa_output_power': -12.27, 'voa_attenuation': 17.56}\n"
     ]
    }
   ],
   "source": [
    "roadm3.edfa_config('preamp', target_gain=10.0, control_mode='constant-gain')"
   ]
  },
  {
   "cell_type": "code",
   "execution_count": 36,
   "metadata": {},
   "outputs": [
    {
     "name": "stdout",
     "output_type": "stream",
     "text": [
      "{'control_mode': 'constant-gain', 'maintenance-state': 'in-service', 'target_power': 1.0, 'target_gain': 9.0, 'target_gain_tilt': 0.0, 'input_power': -5.47, 'output_power': 3.62, 'voa_input_power': 1.49, 'voa_output_power': -3.64, 'voa_attenuation': 5.15}\n"
     ]
    }
   ],
   "source": [
    "roadm7.edfa_config('booster', target_gain=7.0, control_mode='constant-gain')"
   ]
  },
  {
   "cell_type": "code",
   "execution_count": 41,
   "metadata": {},
   "outputs": [
    {
     "name": "stdout",
     "output_type": "stream",
     "text": [
      "{'control_mode': 'constant-gain', 'maintenance-state': 'in-service', 'target_power': -3.0, 'target_gain': 11.0, 'target_gain_tilt': 0.0, 'input_power': -4.63, 'output_power': 6.39, 'voa_input_power': 3.8, 'voa_output_power': -0.1, 'voa_attenuation': 3.89}\n"
     ]
    }
   ],
   "source": [
    "roadm8.edfa_config('booster', target_gain=6.5, control_mode='constant-gain')"
   ]
  },
  {
   "cell_type": "code",
   "execution_count": 44,
   "metadata": {},
   "outputs": [
    {
     "name": "stdout",
     "output_type": "stream",
     "text": [
      "{'control_mode': 'constant-gain', 'maintenance-state': 'in-service', 'target_power': -3.0, 'target_gain': 10.5, 'target_gain_tilt': 0.0, 'input_power': -8.7, 'output_power': 1.98, 'voa_input_power': -0.71, 'voa_output_power': -4.42, 'voa_attenuation': 3.72}\n"
     ]
    }
   ],
   "source": [
    "roadm9.edfa_config('booster', target_gain=10.7, control_mode='constant-gain')"
   ]
  },
  {
   "cell_type": "code",
   "execution_count": 49,
   "metadata": {},
   "outputs": [
    {
     "name": "stdout",
     "output_type": "stream",
     "text": [
      "{'control_mode': 'constant-gain', 'maintenance-state': 'in-service', 'target_power': 10.0, 'target_gain': 10.5, 'target_gain_tilt': 0.0, 'input_power': -8.29, 'output_power': 2.37, 'voa_input_power': 1.02, 'voa_output_power': -13.46, 'voa_attenuation': 14.47}\n"
     ]
    }
   ],
   "source": [
    "roadm6.edfa_config('booster', target_gain=10.0, control_mode='constant-gain')"
   ]
  },
  {
   "cell_type": "code",
   "execution_count": 53,
   "metadata": {},
   "outputs": [
    {
     "name": "stdout",
     "output_type": "stream",
     "text": [
      "{'control_mode': 'constant-gain', 'maintenance-state': 'in-service', 'target_power': 0.0, 'target_gain': 6.0, 'target_gain_tilt': 0.0, 'input_power': -3.3, 'output_power': 2.76, 'voa_input_power': 1.5, 'voa_output_power': -7.51, 'voa_attenuation': 9.01}\n"
     ]
    }
   ],
   "source": [
    "roadm5.edfa_config('booster', target_gain=5.0, control_mode='constant-gain')"
   ]
  },
  {
   "cell_type": "code",
   "execution_count": 9,
   "metadata": {},
   "outputs": [
    {
     "name": "stdout",
     "output_type": "stream",
     "text": [
      "{'control_mode': 'constant-gain', 'maintenance-state': 'in-service', 'target_power': 0.0, 'target_gain': 11.0, 'target_gain_tilt': 0.0, 'input_power': -10.01, 'output_power': 1.16, 'voa_input_power': 0.32, 'voa_output_power': -12.5, 'voa_attenuation': 12.85}\n"
     ]
    }
   ],
   "source": [
    "roadm3.edfa_config('booster', target_gain=12.0, control_mode='constant-gain')"
   ]
  },
  {
   "cell_type": "code",
   "execution_count": 84,
   "metadata": {},
   "outputs": [
    {
     "name": "stdout",
     "output_type": "stream",
     "text": [
      "roadm_4_line (214): -0.92 dBm ---> arof_sig (551): -2.03 dBm < 20.00 dBm\n"
     ]
    }
   ],
   "source": [
    "pol.apply_patch_list([('roadm_4_line', 'arof_sig')])"
   ]
  },
  {
   "cell_type": "code",
   "execution_count": 123,
   "metadata": {},
   "outputs": [],
   "source": [
    "roadm4.disable_als(600)"
   ]
  },
  {
   "cell_type": "code",
   "execution_count": 94,
   "metadata": {},
   "outputs": [
    {
     "name": "stdout",
     "output_type": "stream",
     "text": [
      "{'control_mode': 'constant-gain', 'maintenance-state': 'in-service', 'target_power': 15.0, 'target_gain': 15.0, 'target_gain_tilt': 0.0, 'input_power': -7.26, 'output_power': 7.79, 'voa_input_power': 2.35, 'voa_output_power': -6.36, 'voa_attenuation': 8.71}\n"
     ]
    }
   ],
   "source": [
    "roadm4.edfa_config('booster', target_gain=13.0, control_mode='constant-gain')"
   ]
  },
  {
   "cell_type": "code",
   "execution_count": 124,
   "metadata": {},
   "outputs": [
    {
     "data": {
      "text/plain": [
       "[(1, 0.4), (2, 1.2), (3, 1.0)]"
      ]
     },
     "execution_count": 124,
     "metadata": {},
     "output_type": "execute_result"
    }
   ],
   "source": [
    "roadm4.get_mux_monitored_power()"
   ]
  },
  {
   "cell_type": "code",
   "execution_count": 120,
   "metadata": {},
   "outputs": [
    {
     "data": {
      "text/plain": [
       "[(1, -39.5), (2, -7.9), (3, -40.4)]"
      ]
     },
     "execution_count": 120,
     "metadata": {},
     "output_type": "execute_result"
    }
   ],
   "source": [
    "roadm4.get_mux_connection_input_power()"
   ]
  },
  {
   "cell_type": "code",
   "execution_count": 140,
   "metadata": {},
   "outputs": [
    {
     "name": "stdout",
     "output_type": "stream",
     "text": [
      "#\tComponent\tI/O\tPort\tPower (dBm)\n",
      "0\troadm_4_line\tOut\t214\t-28.59\n",
      "1\tarof_sig\tIn\t551\t-47.28\n"
     ]
    }
   ],
   "source": [
    "pol.print_patch_table([('roadm_4_line', 'arof_sig')])"
   ]
  },
  {
   "cell_type": "code",
   "execution_count": 72,
   "metadata": {},
   "outputs": [
    {
     "name": "stdout",
     "output_type": "stream",
     "text": [
      "#\tComponent\tI/O\tPort\tPower (dBm)\n",
      "0\ttf_1\tOut\t1\t-6.03\n",
      "1\troadm_4_p1\tIn\t427\t-7.72\n",
      "2\ttf_2\tOut\t2\t-6.12\n",
      "3\troadm_4_p2\tIn\t433\t-7.99\n",
      "4\ttf_3\tOut\t3\t-6.69\n",
      "5\troadm_4_p3\tIn\t434\t-8.28\n",
      "6\troadm_4_line\tOut\t214\t-0.95\n",
      "7\tfiber_temp_100m\tIn\t401\t-2.3\n",
      "8\tfiber_temp_100m\tOut\t81\t-2.78\n",
      "9\troadm_3_line\tIn\t535\t-4.23\n",
      "10\troadm_3_p1\tOut\t106\t1.7\n",
      "11\tfiber_7_510m\tIn\t359\t0.29\n",
      "12\tfiber_7_510m\tOut\t39\t-0.55\n",
      "13\troadm_7_line\tIn\t531\t-2.3\n",
      "14\troadm_7_p1\tOut\t110\t0.27\n",
      "15\troadm_7_p1\tIn\t430\t-0.89\n",
      "16\troadm_7_line\tOut\t211\t1.43\n",
      "17\tfiber_19_12646m\tIn\t375\t0.12\n",
      "18\tfiber_19_12646m\tOut\t55\t-3.16\n",
      "19\troadm_8_line\tIn\t530\t-4.73\n",
      "20\troadm_8_p1\tOut\t111\t0.94\n",
      "21\troadm_8_p1\tIn\t431\t-0.53\n",
      "22\troadm_8_line\tOut\t210\t1.54\n",
      "23\tfiber_18_25220m\tIn\t374\t0.15\n",
      "24\tfiber_18_25220m\tOut\t54\t-6.4\n",
      "25\troadm_9_line\tIn\t529\t-7.94\n",
      "26\troadm_9_p1\tOut\t112\t-2.18\n",
      "27\troadm_9_p1\tIn\t432\t-3.63\n",
      "28\troadm_9_line\tOut\t209\t1.93\n",
      "29\tfiber_22_25332m\tIn\t378\t0.23\n",
      "30\tfiber_22_25332m\tOut\t58\t-6.23\n",
      "31\troadm_6_line\tIn\t532\t-7.78\n",
      "32\troadm_6_p1\tOut\t109\t-2.72\n",
      "33\troadm_6_p1\tIn\t429\t-3.96\n",
      "34\troadm_6_line\tOut\t212\t1.51\n",
      "35\tfiber_17_665m\tIn\t373\t0.28\n",
      "36\tfiber_17_665m\tOut\t53\t-0.63\n",
      "37\tfiber_p1b_394m\tIn\t384\t-2.39\n",
      "38\tfiber_p1b_394m\tOut\t64\t-2.81\n",
      "39\troadm_5_line\tIn\t533\t-4.01\n",
      "40\troadm_5_p1\tOut\t108\t1.89\n",
      "41\troadm_5_p1\tIn\t428\t0.68\n",
      "42\troadm_5_line\tOut\t213\t1.68\n",
      "43\tfiber_15_11895m\tIn\t371\t0.49\n",
      "44\tfiber_15_11895m\tOut\t51\t-4.53\n",
      "45\troadm_3_p1\tIn\t426\t-6.0\n",
      "46\troadm_3_line\tOut\t215\t2.03\n",
      "47\tfiber_temp_268m\tIn\t383\t0.25\n",
      "48\tfiber_temp_268m\tOut\t63\t-1.03\n",
      "49\troadm_4_line\tIn\t534\t-2.58\n",
      "50\troadm_4_p1\tOut\t107\t-4.07\n",
      "51\ttf_1\tIn\t321\t-5.65\n",
      "52\troadm_4_p2\tOut\t113\t-3.75\n",
      "53\ttf_2\tIn\t322\t-5.39\n",
      "54\troadm_4_p3\tOut\t114\t-4.34\n",
      "55\ttf_3\tIn\t323\t-5.88\n"
     ]
    }
   ],
   "source": [
    "pol.print_patch_table(patch_list=test1_patch_list)"
   ]
  },
  {
   "cell_type": "code",
   "execution_count": null,
   "metadata": {},
   "outputs": [],
   "source": []
  },
  {
   "cell_type": "code",
   "execution_count": 12,
   "metadata": {},
   "outputs": [
    {
     "name": "stdout",
     "output_type": "stream",
     "text": [
      "1 1 in-service false 4101 4201 191325.0 191425.0 4.00 CH1\n"
     ]
    }
   ],
   "source": [
    "test_conn = generate_wide_channel_mux(roadm4, [1,2], 4101)"
   ]
  },
  {
   "cell_type": "code",
   "execution_count": 43,
   "metadata": {},
   "outputs": [
    {
     "data": {
      "text/plain": [
       "192912.5"
      ]
     },
     "execution_count": 43,
     "metadata": {},
     "output_type": "execute_result"
    }
   ],
   "source": [
    "192850+62.5"
   ]
  },
  {
   "cell_type": "code",
   "execution_count": 121,
   "metadata": {},
   "outputs": [],
   "source": [
    "blocked_='false'\n",
    "cur_conn1 = roadm4.WSSConnection(\n",
    "        1, '1', 'in-service', blocked_,\n",
    "        4101, 4201,\n",
    "        str(192865.62),\n",
    "        str(192934.37),\n",
    "        '{:.2f}'.format(0.0),  'CH' + '1'\n",
    "    )\n",
    "\n",
    "cur_conn2 = roadm4.WSSConnection(\n",
    "        1, '2', 'in-service', blocked_,\n",
    "        4102, 4201,\n",
    "        str(192956.25),\n",
    "        str(193043.75),\n",
    "        '{:.2f}'.format(0.0),  'CH' + '2'\n",
    "    )\n",
    "\n",
    "cur_conn3 = roadm4.WSSConnection(\n",
    "        1, '3', 'in-service', blocked_,\n",
    "        4103, 4201,\n",
    "        str(193056.25),\n",
    "        str(193143.75),\n",
    "        '{:.2f}'.format(0.0),  'CH' + '3'\n",
    "    )\n",
    "\n",
    "\n",
    "conn_list = [cur_conn1, cur_conn2, cur_conn3]"
   ]
  },
  {
   "cell_type": "code",
   "execution_count": 122,
   "metadata": {},
   "outputs": [],
   "source": [
    "roadm4.wss_delete_connection(1, 'all')\n",
    "roadm4.wss_add_connections(conn_list)"
   ]
  },
  {
   "cell_type": "code",
   "execution_count": 100,
   "metadata": {},
   "outputs": [],
   "source": [
    "blocked_='false'\n",
    "cur_conn1 = roadm4.WSSConnection(\n",
    "        2, '1', 'in-service', blocked_,\n",
    "        5101, 5203,\n",
    "        str(192856.25),\n",
    "        str(192943.75),\n",
    "        '{:.2f}'.format(0.0),  'CH' + '1'\n",
    "    )\n",
    "\n",
    "cur_conn2 = roadm4.WSSConnection(\n",
    "        2, '2', 'in-service', blocked_,\n",
    "        5101, 5202,\n",
    "        str(192956.25),\n",
    "        str(193043.75),\n",
    "        '{:.2f}'.format(0.0),  'CH' + '2'\n",
    "    )\n",
    "\n",
    "cur_conn3 = roadm4.WSSConnection(\n",
    "        2, '3', 'in-service', blocked_,\n",
    "        5101, 5201,\n",
    "        str(193065.62),\n",
    "        str(193134.37),\n",
    "        '{:.2f}'.format(0.0),  'CH' + '3'\n",
    "    )\n",
    "\n",
    "\n",
    "conn_list = [cur_conn1, cur_conn2, cur_conn3]"
   ]
  },
  {
   "cell_type": "code",
   "execution_count": 101,
   "metadata": {},
   "outputs": [],
   "source": [
    "roadm4.wss_delete_connection(2, 'all')\n",
    "roadm4.wss_add_connections(conn_list)"
   ]
  },
  {
   "cell_type": "code",
   "execution_count": null,
   "metadata": {},
   "outputs": [],
   "source": []
  },
  {
   "cell_type": "code",
   "execution_count": null,
   "metadata": {},
   "outputs": [],
   "source": []
  },
  {
   "cell_type": "code",
   "execution_count": 66,
   "metadata": {},
   "outputs": [
    {
     "name": "stdout",
     "output_type": "stream",
     "text": [
      "Waiting 3 seconds for ROADM measurements to stabilize...\n",
      "\n",
      "ROADM measurements started at 2024-08-26 17:24:51.312923\n"
     ]
    },
    {
     "data": {
      "image/png": "[encoded data removed]",
      "text/plain": [
       "<Figure size 432x324 with 6 Axes>"
      ]
     },
     "metadata": {
      "needs_background": "light"
     },
     "output_type": "display_data"
    }
   ],
   "source": [
    "monitor4.plot_power('all', refresh=True, notebook=True)"
   ]
  },
  {
   "cell_type": "code",
   "execution_count": null,
   "metadata": {},
   "outputs": [],
   "source": []
  },
  {
   "cell_type": "code",
   "execution_count": 67,
   "metadata": {},
   "outputs": [
    {
     "data": {
      "text/plain": [
       "{'ImpTF600g64QNorm_indefinite_sop-tracking': '0',\n",
       " 'CarrierTF_indefinite_opt-rcv-pwr': '-6.2',\n",
       " 'Carrier_15min_opt-rcv-pwr-lo': '-38.9',\n",
       " 'Carrier_15min_opt-rcv-pwr-mean': '-9.0',\n",
       " 'Carrier_15min_opt-rcv-pwr-hi': '-6.1',\n",
       " 'Carrier_24hour_opt-rcv-pwr-lo': '-53.2',\n",
       " 'Carrier_24hour_opt-rcv-pwr-mean': '-11.5',\n",
       " 'Carrier_24hour_opt-rcv-pwr-hi': '-4.6',\n",
       " 'QualityTF_indefinite_carrier-frequency-offset': '-0.005',\n",
       " 'QualityTF_indefinite_q-factor': '6.0',\n",
       " 'QualityTF_indefinite_polarization-dependent-loss': '0.6',\n",
       " 'Quality_15min_carrier-frequency-offset-lo': '-0.019',\n",
       " 'Quality_15min_carrier-frequency-offset-mean': '0.0',\n",
       " 'Quality_15min_carrier-frequency-offset-hi': '0.019',\n",
       " 'Quality_15min_q-factor-lo': '0.0',\n",
       " 'Quality_15min_q-factor-mean': '4.2',\n",
       " 'Quality_15min_q-factor-hi': '6.0',\n",
       " 'Quality_15min_polarization-dependent-loss-lo': '0.0',\n",
       " 'Quality_15min_polarization-dependent-loss-mean': '0.4',\n",
       " 'Quality_15min_polarization-dependent-loss-hi': '1.1',\n",
       " 'Quality_24hour_carrier-frequency-offset-lo': '-0.021',\n",
       " 'Quality_24hour_carrier-frequency-offset-mean': '0.0',\n",
       " 'Quality_24hour_carrier-frequency-offset-hi': '0.019',\n",
       " 'Quality_24hour_q-factor-lo': '0.0',\n",
       " 'Quality_24hour_q-factor-mean': '3.1',\n",
       " 'Quality_24hour_q-factor-hi': '11.3',\n",
       " 'Quality_24hour_polarization-dependent-loss-lo': '0.0',\n",
       " 'Quality_24hour_polarization-dependent-loss-mean': '0.2',\n",
       " 'Quality_24hour_polarization-dependent-loss-hi': '1.1',\n",
       " 'QualityTF600g64Q_indefinite_signal-to-noise-ratio': '17.7',\n",
       " 'QualityTF600g64Q_indefinite_optical-signal-to-noise-ratio': '24.0',\n",
       " 'QualityTF600g64Q_indefinite_differential-group-delay': '2',\n",
       " 'QualityMod_15min_signal-to-noise-ratio-lo': '0.0',\n",
       " 'QualityMod_15min_signal-to-noise-ratio-mean': '15.2',\n",
       " 'QualityMod_15min_signal-to-noise-ratio-hi': '17.9',\n",
       " 'QualityMod_15min_optical-signal-to-noise-ratio-lo': '0.0',\n",
       " 'QualityMod_15min_optical-signal-to-noise-ratio-mean': '21.2',\n",
       " 'QualityMod_15min_optical-signal-to-noise-ratio-hi': '24.1',\n",
       " 'QualityMod_15min_differential-group-delay-lo': '0',\n",
       " 'QualityMod_15min_differential-group-delay-mean': '1',\n",
       " 'QualityMod_15min_differential-group-delay-hi': '3',\n",
       " 'QualityMod_24hour_signal-to-noise-ratio-lo': '0.0',\n",
       " 'QualityMod_24hour_signal-to-noise-ratio-mean': '13.5',\n",
       " 'QualityMod_24hour_signal-to-noise-ratio-hi': '20.4',\n",
       " 'QualityMod_24hour_optical-signal-to-noise-ratio-lo': '0.0',\n",
       " 'QualityMod_24hour_optical-signal-to-noise-ratio-mean': '26.4',\n",
       " 'QualityMod_24hour_optical-signal-to-noise-ratio-hi': '37.9',\n",
       " 'QualityMod_24hour_differential-group-delay-lo': '0',\n",
       " 'QualityMod_24hour_differential-group-delay-mean': '0',\n",
       " 'QualityMod_24hour_differential-group-delay-hi': '3',\n",
       " 'ImpCdc_15min_chromatic-dispersion-compensation-lo': '-1303',\n",
       " 'ImpCdc_15min_chromatic-dispersion-compensation-mean': '-697',\n",
       " 'ImpCdc_15min_chromatic-dispersion-compensation-hi': '0',\n",
       " 'ImpCdc_24hour_chromatic-dispersion-compensation-lo': '-1309',\n",
       " 'ImpCdc_24hour_chromatic-dispersion-compensation-mean': '-321',\n",
       " 'ImpCdc_24hour_chromatic-dispersion-compensation-hi': '4',\n",
       " 'Impairments_15min_sop-tracking-lo': '0',\n",
       " 'Impairments_15min_sop-tracking-mean': '8',\n",
       " 'Impairments_15min_sop-tracking-hi': '73',\n",
       " 'Impairments_24hour_sop-tracking-lo': '0',\n",
       " 'Impairments_24hour_sop-tracking-mean': '2',\n",
       " 'Impairments_24hour_sop-tracking-hi': '97',\n",
       " 'ImpTF64QCdcRange2_indefinite_chromatic-dispersion-compensation': '-1303'}"
      ]
     },
     "execution_count": 67,
     "metadata": {},
     "output_type": "execute_result"
    }
   ],
   "source": [
    "tf.read_pm_data(10, '1/1/n1')"
   ]
  },
  {
   "cell_type": "code",
   "execution_count": 68,
   "metadata": {},
   "outputs": [
    {
     "data": {
      "text/plain": [
       "{'ImpTF600g64QNorm_indefinite_sop-tracking': '45',\n",
       " 'CarrierTF_indefinite_opt-rcv-pwr': '-5.9',\n",
       " 'Carrier_15min_opt-rcv-pwr-lo': '-52.2',\n",
       " 'Carrier_15min_opt-rcv-pwr-mean': '-10.7',\n",
       " 'Carrier_15min_opt-rcv-pwr-hi': '-5.7',\n",
       " 'Carrier_24hour_opt-rcv-pwr-lo': '-52.3',\n",
       " 'Carrier_24hour_opt-rcv-pwr-mean': '-17.3',\n",
       " 'Carrier_24hour_opt-rcv-pwr-hi': '-5.7',\n",
       " 'QualityTF_indefinite_carrier-frequency-offset': '-0.007',\n",
       " 'QualityTF_indefinite_q-factor': '6.0',\n",
       " 'QualityTF_indefinite_polarization-dependent-loss': '0.7',\n",
       " 'Quality_15min_carrier-frequency-offset-lo': '-0.02',\n",
       " 'Quality_15min_carrier-frequency-offset-mean': '0.0',\n",
       " 'Quality_15min_carrier-frequency-offset-hi': '0.018',\n",
       " 'Quality_15min_q-factor-lo': '0.0',\n",
       " 'Quality_15min_q-factor-mean': '3.9',\n",
       " 'Quality_15min_q-factor-hi': '6.0',\n",
       " 'Quality_15min_polarization-dependent-loss-lo': '0.0',\n",
       " 'Quality_15min_polarization-dependent-loss-mean': '0.3',\n",
       " 'Quality_15min_polarization-dependent-loss-hi': '1.3',\n",
       " 'Quality_24hour_carrier-frequency-offset-lo': '-0.02',\n",
       " 'Quality_24hour_carrier-frequency-offset-mean': '0.0',\n",
       " 'Quality_24hour_carrier-frequency-offset-hi': '0.018',\n",
       " 'Quality_24hour_q-factor-lo': '0.0',\n",
       " 'Quality_24hour_q-factor-mean': '0.8',\n",
       " 'Quality_24hour_q-factor-hi': '6.0',\n",
       " 'Quality_24hour_polarization-dependent-loss-lo': '0.0',\n",
       " 'Quality_24hour_polarization-dependent-loss-mean': '0.0',\n",
       " 'Quality_24hour_polarization-dependent-loss-hi': '1.3',\n",
       " 'QualityTF600g64Q_indefinite_signal-to-noise-ratio': '17.7',\n",
       " 'QualityTF600g64Q_indefinite_optical-signal-to-noise-ratio': '23.7',\n",
       " 'QualityTF600g64Q_indefinite_differential-group-delay': '2',\n",
       " 'QualityMod_15min_signal-to-noise-ratio-lo': '0.0',\n",
       " 'QualityMod_15min_signal-to-noise-ratio-mean': '14.7',\n",
       " 'QualityMod_15min_signal-to-noise-ratio-hi': '17.8',\n",
       " 'QualityMod_15min_optical-signal-to-noise-ratio-lo': '0.0',\n",
       " 'QualityMod_15min_optical-signal-to-noise-ratio-mean': '19.0',\n",
       " 'QualityMod_15min_optical-signal-to-noise-ratio-hi': '24.0',\n",
       " 'QualityMod_15min_differential-group-delay-lo': '0',\n",
       " 'QualityMod_15min_differential-group-delay-mean': '0',\n",
       " 'QualityMod_15min_differential-group-delay-hi': '2',\n",
       " 'QualityMod_24hour_signal-to-noise-ratio-lo': '0.0',\n",
       " 'QualityMod_24hour_signal-to-noise-ratio-mean': '6.8',\n",
       " 'QualityMod_24hour_signal-to-noise-ratio-hi': '17.9',\n",
       " 'QualityMod_24hour_optical-signal-to-noise-ratio-lo': '0.0',\n",
       " 'QualityMod_24hour_optical-signal-to-noise-ratio-mean': '12.0',\n",
       " 'QualityMod_24hour_optical-signal-to-noise-ratio-hi': '24.0',\n",
       " 'QualityMod_24hour_differential-group-delay-lo': '0',\n",
       " 'QualityMod_24hour_differential-group-delay-mean': '0',\n",
       " 'QualityMod_24hour_differential-group-delay-hi': '3',\n",
       " 'ImpCdc_15min_chromatic-dispersion-compensation-lo': '-1302',\n",
       " 'ImpCdc_15min_chromatic-dispersion-compensation-mean': '-633',\n",
       " 'ImpCdc_15min_chromatic-dispersion-compensation-hi': '0',\n",
       " 'ImpCdc_24hour_chromatic-dispersion-compensation-lo': '-1304',\n",
       " 'ImpCdc_24hour_chromatic-dispersion-compensation-mean': '-83',\n",
       " 'ImpCdc_24hour_chromatic-dispersion-compensation-hi': '0',\n",
       " 'Impairments_15min_sop-tracking-lo': '0',\n",
       " 'Impairments_15min_sop-tracking-mean': '5',\n",
       " 'Impairments_15min_sop-tracking-hi': '86',\n",
       " 'Impairments_24hour_sop-tracking-lo': '0',\n",
       " 'Impairments_24hour_sop-tracking-mean': '1',\n",
       " 'Impairments_24hour_sop-tracking-hi': '100',\n",
       " 'ImpTF64QCdcRange2_indefinite_chromatic-dispersion-compensation': '-1299'}"
      ]
     },
     "execution_count": 68,
     "metadata": {},
     "output_type": "execute_result"
    }
   ],
   "source": [
    "tf.read_pm_data(10, '1/1/n2')"
   ]
  },
  {
   "cell_type": "code",
   "execution_count": 69,
   "metadata": {},
   "outputs": [
    {
     "data": {
      "text/plain": [
       "{'ImpTF400g64QNorm_indefinite_sop-tracking': '0',\n",
       " 'CarrierTF_indefinite_opt-rcv-pwr': '-6.7',\n",
       " 'Carrier_15min_opt-rcv-pwr-lo': '-49.9',\n",
       " 'Carrier_15min_opt-rcv-pwr-mean': '-10.9',\n",
       " 'Carrier_15min_opt-rcv-pwr-hi': '-6.5',\n",
       " 'Carrier_24hour_opt-rcv-pwr-lo': '-50.0',\n",
       " 'Carrier_24hour_opt-rcv-pwr-mean': '-8.2',\n",
       " 'Carrier_24hour_opt-rcv-pwr-hi': '-6.3',\n",
       " 'QualityTF_indefinite_carrier-frequency-offset': '0.005',\n",
       " 'QualityTF_indefinite_q-factor': '6.0',\n",
       " 'QualityTF_indefinite_polarization-dependent-loss': '0.9',\n",
       " 'Quality_15min_carrier-frequency-offset-lo': '-0.017',\n",
       " 'Quality_15min_carrier-frequency-offset-mean': '0.0',\n",
       " 'Quality_15min_carrier-frequency-offset-hi': '0.015',\n",
       " 'Quality_15min_q-factor-lo': '0.0',\n",
       " 'Quality_15min_q-factor-mean': '4.1',\n",
       " 'Quality_15min_q-factor-hi': '6.0',\n",
       " 'Quality_15min_polarization-dependent-loss-lo': '0.0',\n",
       " 'Quality_15min_polarization-dependent-loss-mean': '0.4',\n",
       " 'Quality_15min_polarization-dependent-loss-hi': '1.1',\n",
       " 'Quality_24hour_carrier-frequency-offset-lo': '-0.018',\n",
       " 'Quality_24hour_carrier-frequency-offset-mean': '0.0',\n",
       " 'Quality_24hour_carrier-frequency-offset-hi': '0.017',\n",
       " 'Quality_24hour_q-factor-lo': '0.0',\n",
       " 'Quality_24hour_q-factor-mean': '5.1',\n",
       " 'Quality_24hour_q-factor-hi': '10.7',\n",
       " 'Quality_24hour_polarization-dependent-loss-lo': '0.0',\n",
       " 'Quality_24hour_polarization-dependent-loss-mean': '0.4',\n",
       " 'Quality_24hour_polarization-dependent-loss-hi': '1.4',\n",
       " 'QualityTF400g64Q_indefinite_signal-to-noise-ratio': '18.2',\n",
       " 'QualityTF400g64Q_indefinite_optical-signal-to-noise-ratio': '23.2',\n",
       " 'QualityTF400g64Q_indefinite_differential-group-delay': '2',\n",
       " 'QualityMod_15min_signal-to-noise-ratio-lo': '0.0',\n",
       " 'QualityMod_15min_signal-to-noise-ratio-mean': '15.4',\n",
       " 'QualityMod_15min_signal-to-noise-ratio-hi': '18.3',\n",
       " 'QualityMod_15min_optical-signal-to-noise-ratio-lo': '0.0',\n",
       " 'QualityMod_15min_optical-signal-to-noise-ratio-mean': '19.0',\n",
       " 'QualityMod_15min_optical-signal-to-noise-ratio-hi': '23.4',\n",
       " 'QualityMod_15min_differential-group-delay-lo': '0',\n",
       " 'QualityMod_15min_differential-group-delay-mean': '1',\n",
       " 'QualityMod_15min_differential-group-delay-hi': '4',\n",
       " 'QualityMod_24hour_signal-to-noise-ratio-lo': '0.0',\n",
       " 'QualityMod_24hour_signal-to-noise-ratio-mean': '17.0',\n",
       " 'QualityMod_24hour_signal-to-noise-ratio-hi': '18.4',\n",
       " 'QualityMod_24hour_optical-signal-to-noise-ratio-lo': '0.0',\n",
       " 'QualityMod_24hour_optical-signal-to-noise-ratio-mean': '22.1',\n",
       " 'QualityMod_24hour_optical-signal-to-noise-ratio-hi': '35.6',\n",
       " 'QualityMod_24hour_differential-group-delay-lo': '0',\n",
       " 'QualityMod_24hour_differential-group-delay-mean': '0',\n",
       " 'QualityMod_24hour_differential-group-delay-hi': '6',\n",
       " 'ImpCdc_15min_chromatic-dispersion-compensation-lo': '-1303',\n",
       " 'ImpCdc_15min_chromatic-dispersion-compensation-mean': '-682',\n",
       " 'ImpCdc_15min_chromatic-dispersion-compensation-hi': '0',\n",
       " 'ImpCdc_24hour_chromatic-dispersion-compensation-lo': '-1315',\n",
       " 'ImpCdc_24hour_chromatic-dispersion-compensation-mean': '-959',\n",
       " 'ImpCdc_24hour_chromatic-dispersion-compensation-hi': '0',\n",
       " 'Impairments_15min_sop-tracking-lo': '0',\n",
       " 'Impairments_15min_sop-tracking-mean': '8',\n",
       " 'Impairments_15min_sop-tracking-hi': '96',\n",
       " 'Impairments_24hour_sop-tracking-lo': '0',\n",
       " 'Impairments_24hour_sop-tracking-mean': '5',\n",
       " 'Impairments_24hour_sop-tracking-hi': '96',\n",
       " 'ImpTF64QCdcRange2_indefinite_chromatic-dispersion-compensation': '-1287'}"
      ]
     },
     "execution_count": 69,
     "metadata": {},
     "output_type": "execute_result"
    }
   ],
   "source": [
    "tf.read_pm_data(10, '1/2/n1')"
   ]
  },
  {
   "cell_type": "code",
   "execution_count": null,
   "metadata": {},
   "outputs": [],
   "source": []
  },
  {
   "cell_type": "code",
   "execution_count": null,
   "metadata": {},
   "outputs": [],
   "source": []
  }
 ],
 "metadata": {
  "kernelspec": {
   "display_name": "Python 3",
   "language": "python",
   "name": "python3"
  },
  "language_info": {
   "codemirror_mode": {
    "name": "ipython",
    "version": 3
   },
   "file_extension": ".py",
   "mimetype": "text/x-python",
   "name": "python",
   "nbconvert_exporter": "python",
   "pygments_lexer": "ipython3",
   "version": "3.6.9"
  }
 },
 "nbformat": 4,
 "nbformat_minor": 2
}
