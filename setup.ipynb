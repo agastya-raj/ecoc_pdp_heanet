{
 "cells": [
  {
   "cell_type": "code",
   "execution_count": 1,
   "metadata": {},
   "outputs": [
    {
     "name": "stderr",
     "output_type": "stream",
     "text": [
      "Matplotlib created a temporary config/cache directory at /tmp/matplotlib-9x1ibco6 because the default path (/home/ajag/.config/matplotlib) is not a writable directory; it is highly recommended to set the MPLCONFIGDIR environment variable to a writable directory, in particular to speed up the import of Matplotlib and to better support multiprocessing.\n"
     ]
    }
   ],
   "source": [
    "import sys\n",
    "sys.path.append(\"/home/ajag/tcdona3\")\n",
    "import math\n",
    "from tcdona2.polatis import Polatis\n",
    "from monitor import RoadmMonitor\n",
    "from ila import ILA\n",
    "from bbsource import BBS\n",
    "import time     \n",
    "import json\n",
    "from utils import *\n",
    "from teraflex import tflex"
   ]
  },
  {
   "cell_type": "code",
   "execution_count": 8,
   "metadata": {},
   "outputs": [],
   "source": [
    "pol = Polatis()\n",
    "pol.login()\n",
    "\n",
    "tf = tflex('10.10.10.92')"
   ]
  },
  {
   "cell_type": "code",
   "execution_count": 3,
   "metadata": {},
   "outputs": [
    {
     "name": "stdout",
     "output_type": "stream",
     "text": [
      "Initializing ROADM Monitoring for lumentum_4...\n",
      "Initializing ROADM Monitoring for lumentum_3...\n",
      "Initializing ROADM Monitoring for lumentum_7...\n",
      "Initializing ROADM Monitoring for lumentum_9...\n",
      "Initializing ROADM Monitoring for lumentum_8...\n",
      "Initializing ROADM Monitoring for lumentum_6...\n",
      "Initializing ROADM Monitoring for lumentum_5...\n"
     ]
    }
   ],
   "source": [
    "monitors = [RoadmMonitor('lumentum_4'), RoadmMonitor('lumentum_3'), RoadmMonitor('lumentum_7'), RoadmMonitor('lumentum_9'), RoadmMonitor('lumentum_8'), RoadmMonitor('lumentum_6'), RoadmMonitor('lumentum_5')]\n",
    "monitor4 = monitors[0]\n",
    "monitor3 = monitors[1]\n",
    "monitor7 = monitors[2]\n",
    "monitor9 = monitors[3]\n",
    "monitor8 = monitors[4]\n",
    "monitor6 = monitors[5]\n",
    "monitor5 = monitors[6]\n",
    "\n",
    "roadms = [monitor.roadm for monitor in monitors]\n",
    "roadm4 = roadms[0]\n",
    "roadm3 = roadms[1]\n",
    "roadm7 = roadms[2]\n",
    "roadm9 = roadms[3]\n",
    "roadm8 = roadms[4]\n",
    "roadm6 = roadms[5]\n",
    "roadm5 = roadms[6]\n",
    "\n",
    "operator_roadms = [roadm3, roadm7, roadm8, roadm9, roadm6, roadm5]\n",
    "user_roadm = roadm4"
   ]
  },
  {
   "cell_type": "code",
   "execution_count": 4,
   "metadata": {},
   "outputs": [
    {
     "name": "stdout",
     "output_type": "stream",
     "text": [
      "arof_sig (231): -2.74 dBm ---> splitter_1_2x2_p1 (545): -3.08 dBm < 20.00 dBm\n",
      "tf_1 (1): -4.85 dBm ---> splitter_2_2x2_p1 (561): -6.38 dBm < 20.00 dBm\n",
      "splitter_1_2x2_p1 (225): -7.60 dBm ---> splitter_2_2x2_p2 (562): -8.27 dBm < 20.00 dBm\n",
      "splitter_2_2x2_p1 (241): -8.01 dBm ---> roadm_4_p1 (427): -9.35 dBm < 20.00 dBm\n",
      "tf_2 (2): -6.10 dBm ---> roadm_4_p2 (433): -7.91 dBm < 20.00 dBm\n",
      "tf_3 (3): -6.06 dBm ---> splitter_3_2x2_p1 (563): -7.41 dBm < 20.00 dBm\n",
      "splitter_1_2x2_p2 (226): -7.83 dBm ---> splitter_3_2x2_p2 (564): -7.88 dBm < 20.00 dBm\n",
      "splitter_3_2x2_p1 (243): -8.65 dBm ---> roadm_4_p3 (434): -10.21 dBm < 20.00 dBm\n",
      "roadm_4_line (214): 2.81 dBm ---> splitter_4_2x2_p1 (565): 1.71 dBm < 20.00 dBm\n",
      "splitter_4_2x2_p1 (245): -2.73 dBm ---> fiber_temp_100m (401): -4.51 dBm < 20.00 dBm\n",
      "fiber_temp_100m (81): -4.96 dBm ---> roadm_3_p1 (426): -6.45 dBm < 20.00 dBm\n",
      "roadm_3_line (215): 1.56 dBm ---> fiber_7_510m (359): -0.09 dBm < 20.00 dBm\n",
      "fiber_7_510m (39): -0.93 dBm ---> roadm_7_line (531): -2.63 dBm < 20.00 dBm\n",
      "roadm_7_p1 (110): -0.07 dBm ---> roadm_7_p1 (430): -1.26 dBm < 20.00 dBm\n",
      "roadm_7_line (211): 1.04 dBm ---> fiber_19_12646m (375): -0.24 dBm < 20.00 dBm\n",
      "fiber_19_12646m (55): -3.50 dBm ---> roadm_8_line (530): -5.09 dBm < 20.00 dBm\n",
      "roadm_8_p1 (111): 0.54 dBm ---> roadm_8_p1 (431): -0.89 dBm < 20.00 dBm\n",
      "roadm_8_line (210): 1.17 dBm ---> fiber_18_25220m (374): -0.24 dBm < 20.00 dBm\n",
      "fiber_18_25220m (54): -6.79 dBm ---> roadm_9_line (529): -8.32 dBm < 20.00 dBm\n",
      "roadm_9_p1 (112): -2.56 dBm ---> roadm_9_p1 (432): -3.97 dBm < 20.00 dBm\n",
      "roadm_9_line (209): 1.60 dBm ---> fiber_22_25332m (378): -0.12 dBm < 20.00 dBm\n",
      "fiber_22_25332m (58): -6.54 dBm ---> roadm_6_line (532): -8.14 dBm < 20.00 dBm\n",
      "roadm_6_p1 (109): -3.02 dBm ---> roadm_6_p1 (429): -4.28 dBm < 20.00 dBm\n",
      "roadm_6_line (212): 1.21 dBm ---> fiber_17_665m (373): -0.04 dBm < 20.00 dBm\n",
      "fiber_17_665m (53): -0.95 dBm ---> fiber_p1b_394m (384): -2.73 dBm < 20.00 dBm\n",
      "fiber_p1b_394m (64): -3.09 dBm ---> roadm_5_line (533): -4.34 dBm < 20.00 dBm\n",
      "roadm_5_p1 (108): 1.58 dBm ---> roadm_5_p1 (428): 0.36 dBm < 20.00 dBm\n",
      "roadm_5_line (213): 1.35 dBm ---> fiber_15_11895m (371): 0.13 dBm < 20.00 dBm\n",
      "fiber_15_11895m (51): -4.85 dBm ---> roadm_3_line (535): -6.24 dBm < 20.00 dBm\n",
      "roadm_3_p1 (106): -0.26 dBm ---> fiber_temp_268m (383): -1.87 dBm < 20.00 dBm\n",
      "fiber_temp_268m (63): -3.17 dBm ---> roadm_4_line (534): -4.71 dBm < 20.00 dBm\n",
      "roadm_4_p1 (107): -8.87 dBm ---> tf_1 (321): -10.50 dBm < 20.00 dBm\n",
      "roadm_4_p2 (113): -3.78 dBm ---> tf_2 (322): -5.50 dBm < 20.00 dBm\n",
      "roadm_4_p3 (114): -7.59 dBm ---> tf_3 (323): -9.05 dBm < 20.00 dBm\n",
      "roadm_4_p4 (115): -28.27 dBm ---> arof_sig (551): -44.25 dBm < 20.00 dBm\n"
     ]
    }
   ],
   "source": [
    "pol.apply_patch_list(test1_patch_list)"
   ]
  },
  {
   "cell_type": "code",
   "execution_count": 74,
   "metadata": {},
   "outputs": [
    {
     "name": "stdout",
     "output_type": "stream",
     "text": [
      "{'control_mode': 'constant-gain', 'maintenance-state': 'in-service', 'target_power': 15.0, 'target_gain': 18.0, 'target_gain_tilt': 0.0, 'input_power': -9.4, 'output_power': 8.68, 'voa_input_power': 1.35, 'voa_output_power': -4.35, 'voa_attenuation': 5.7}\n"
     ]
    }
   ],
   "source": [
    "roadm4.edfa_config('booster', target_gain=17.0, control_mode='constant-gain')\n",
    "roadm3.edfa_config('booster', target_gain=8.5, control_mode='constant-gain')\n",
    "roadm3.edfa_config('preamp', target_gain=12.0, control_mode='constant-gain')"
   ]
  },
  {
   "cell_type": "code",
   "execution_count": 78,
   "metadata": {},
   "outputs": [],
   "source": [
    "for roadm in roadms:\n",
    "    roadm.disable_als(600)"
   ]
  },
  {
   "cell_type": "code",
   "execution_count": 92,
   "metadata": {},
   "outputs": [
    {
     "name": "stdout",
     "output_type": "stream",
     "text": [
      "#\tComponent\tI/O\tPort\tPower (dBm)\n",
      "0\tarof_sig\tOut\t231\t-1.42\n",
      "1\tsplitter_1_2x2_p1\tIn\t545\t-2.92\n",
      "2\ttf_1\tOut\t1\t-3.85\n",
      "3\tsplitter_2_2x2_p1\tIn\t561\t-5.4\n",
      "4\tsplitter_1_2x2_p1\tOut\t225\t-7.08\n",
      "5\tsplitter_2_2x2_p2\tIn\t562\t-9.18\n",
      "6\tsplitter_2_2x2_p1\tOut\t241\t-7.2\n",
      "7\troadm_4_p1\tIn\t427\t-8.74\n",
      "8\ttf_2\tOut\t2\t-6.11\n",
      "9\troadm_4_p2\tIn\t433\t-7.93\n",
      "10\ttf_3\tOut\t3\t-2.07\n",
      "11\tsplitter_3_2x2_p1\tIn\t563\t-3.41\n",
      "12\tsplitter_1_2x2_p2\tOut\t226\t-6.97\n",
      "13\tsplitter_3_2x2_p2\tIn\t564\t-8.55\n",
      "14\tsplitter_3_2x2_p1\tOut\t243\t-5.85\n",
      "15\troadm_4_p3\tIn\t434\t-7.18\n",
      "16\troadm_4_line\tOut\t214\t8.07\n",
      "17\tsplitter_4_2x2_p1\tIn\t565\t6.94\n",
      "18\tsplitter_4_2x2_p1\tOut\t245\t2.53\n",
      "19\tfiber_temp_100m\tIn\t401\t0.71\n",
      "20\tfiber_temp_100m\tOut\t81\t0.26\n",
      "21\troadm_3_p1\tIn\t426\t-1.2\n",
      "22\troadm_3_line\tOut\t215\t3.23\n",
      "23\tfiber_7_510m\tIn\t359\t1.54\n",
      "24\tfiber_7_510m\tOut\t39\t0.71\n",
      "25\troadm_7_line\tIn\t531\t-0.96\n",
      "26\troadm_7_p1\tOut\t110\t1.56\n",
      "27\troadm_7_p1\tIn\t430\t0.38\n",
      "28\troadm_7_line\tOut\t211\t2.67\n",
      "29\tfiber_19_12646m\tIn\t375\t1.37\n",
      "30\tfiber_19_12646m\tOut\t55\t-1.9\n",
      "31\troadm_8_line\tIn\t530\t-3.46\n",
      "32\troadm_8_p1\tOut\t111\t2.16\n",
      "33\troadm_8_p1\tIn\t431\t0.72\n",
      "34\troadm_8_line\tOut\t210\t2.79\n",
      "35\tfiber_18_25220m\tIn\t374\t1.35\n",
      "36\tfiber_18_25220m\tOut\t54\t-5.18\n",
      "37\troadm_9_line\tIn\t529\t-6.73\n",
      "38\troadm_9_p1\tOut\t112\t-1.0\n",
      "39\troadm_9_p1\tIn\t432\t-2.46\n",
      "40\troadm_9_line\tOut\t209\t3.08\n",
      "41\tfiber_22_25332m\tIn\t378\t1.35\n",
      "42\tfiber_22_25332m\tOut\t58\t-5.1\n",
      "43\troadm_6_line\tIn\t532\t-6.68\n",
      "44\troadm_6_p1\tOut\t109\t-1.66\n",
      "45\troadm_6_p1\tIn\t429\t-2.91\n",
      "46\troadm_6_line\tOut\t212\t2.51\n",
      "47\tfiber_17_665m\tIn\t373\t1.28\n",
      "48\tfiber_17_665m\tOut\t53\t0.37\n",
      "49\tfiber_p1b_394m\tIn\t384\t-1.39\n",
      "50\tfiber_p1b_394m\tOut\t64\t-1.76\n",
      "51\troadm_5_line\tIn\t533\t-2.99\n",
      "52\troadm_5_p1\tOut\t108\t2.93\n",
      "53\troadm_5_p1\tIn\t428\t1.71\n",
      "54\troadm_5_line\tOut\t213\t2.65\n",
      "55\tfiber_15_11895m\tIn\t371\t1.43\n",
      "56\tfiber_15_11895m\tOut\t51\t-3.59\n",
      "57\troadm_3_line\tIn\t535\t-4.95\n",
      "58\troadm_3_p1\tOut\t106\t2.97\n",
      "59\tfiber_temp_268m\tIn\t383\t1.39\n",
      "60\tfiber_temp_268m\tOut\t63\t0.06\n",
      "61\troadm_4_line\tIn\t534\t-1.45\n",
      "62\troadm_4_p1\tOut\t107\t-28.85\n",
      "63\ttf_1\tIn\t321\t-47.45\n",
      "64\troadm_4_p2\tOut\t113\t-28.46\n",
      "65\ttf_2\tIn\t322\t-45.45\n",
      "66\troadm_4_p3\tOut\t114\t-28.46\n",
      "67\ttf_3\tIn\t323\t-45.9\n",
      "68\troadm_4_p4\tOut\t115\t2.64\n",
      "69\tarof_sig\tIn\t551\t1.36\n"
     ]
    }
   ],
   "source": [
    "pol.print_patch_table(test1_patch_list)"
   ]
  },
  {
   "cell_type": "code",
   "execution_count": 2,
   "metadata": {},
   "outputs": [],
   "source": [
    "# This block only needs to execte once for the experiment. Caution: Do not run this many times\n",
    "\n",
    "# for roadm in roadms:\n",
    "#     roadm.edfa_config('booster', target_gain=10.0, control_mode='constant-gain')\n",
    "#     roadm.edfa_config('preamp', target_gain=10.0, control_mode='constant-gain')\n",
    "\n",
    "# time.sleep(30)\n",
    "\n",
    "# for roadm in roadms:\n",
    "#     roadm.make_grid('both', list(range(1,96)))\n",
    "\n",
    "# time.sleep(30)\n",
    "\n",
    "# for roadm in roadms:\n",
    "#     roadm.disable_als(600)"
   ]
  },
  {
   "cell_type": "code",
   "execution_count": 97,
   "metadata": {},
   "outputs": [
    {
     "data": {
      "text/plain": [
       "30"
      ]
     },
     "execution_count": 97,
     "metadata": {},
     "output_type": "execute_result"
    }
   ],
   "source": [
    "# Changing the TeraFlex configuration\n",
    "\n",
    "# tf.change_configuration(line_port='1/2/n1', logical_interface='ot600', modulation='dp-64qam', target_power=-2.0, fec='sdfec-acacia27-7iterations', central_frequency=193100000)\n",
    "# tf.change_configuration(line_port='1/1/n2', logical_interface='ot600', modulation='dp-64qam', target_power=-6.2, fec='sdfec-acacia27-7iterations', central_frequency=193000000)\n",
    "# tf.change_configuration(line_port='1/1/n1', logical_interface='ot400', modulation='dp-64qam', target_power=-4.6, fec='sdfec-acacia27-7iterations', central_frequency=192900000)"
   ]
  },
  {
   "cell_type": "code",
   "execution_count": 90,
   "metadata": {},
   "outputs": [
    {
     "data": {
      "text/plain": [
       "30"
      ]
     },
     "execution_count": 90,
     "metadata": {},
     "output_type": "execute_result"
    }
   ],
   "source": [
    "tf.change_configuration(line_port='1/1/n1', logical_interface='ot400', modulation='dp-64qam', target_power=-3.6, fec='sdfec-acacia27-7iterations', central_frequency=192900000)"
   ]
  },
  {
   "cell_type": "code",
   "execution_count": 10,
   "metadata": {},
   "outputs": [],
   "source": [
    "for roadm in roadms:\n",
    "    roadm.disable_als(600)"
   ]
  },
  {
   "cell_type": "code",
   "execution_count": 11,
   "metadata": {},
   "outputs": [],
   "source": [
    "# user_grid = {(32):1, (34):2, (36):3}\n",
    "\n",
    "# user_roadm_mux_conn = operator_flex_grid_mux_connections(user_roadm, user_grid, open_channels=wdm_channel_list, loss=0.0)\n",
    "# user_roadm.wss_delete_connection(1, 'all')\n",
    "# user_roadm.wss_add_connections(user_roadm_mux_conn)\n",
    "\n",
    "# time.sleep(5)\n",
    "\n",
    "# user_roadm_demux_conn = operator_flex_grid_demux_connections(user_roadm, user_grid, open_channels=wdm_channel_list, loss=0.0)\n",
    "# user_roadm.wss_delete_connection(2, 'all')\n",
    "# user_roadm.wss_add_connections(user_roadm_demux_conn)"
   ]
  },
  {
   "cell_type": "code",
   "execution_count": 12,
   "metadata": {},
   "outputs": [],
   "source": [
    "# osaas_grid = {(30,31,32,33,34,35,36,37,38):1}\n",
    "\n",
    "# for roadm in operator_roadms:\n",
    "\n",
    "#     demux_conn_list = operator_flex_grid_demux_connections(roadm, osaas_grid, open_channels = wdm_channel_list, loss=0.0)\n",
    "#     roadm.wss_delete_connection(2, 'all')\n",
    "#     roadm.wss_add_connections(demux_conn_list)\n",
    "\n",
    "# time.sleep(5)\n",
    "\n",
    "# user_roadm_demux_conn = operator_flex_grid_demux_connections(user_roadm, user_grid, open_channels=wdm_channel_list, loss=0.0, default_port=4)\n",
    "# user_roadm.wss_delete_connection(2, 'all')\n",
    "# user_roadm.wss_add_connections(user_roadm_demux_conn)"
   ]
  },
  {
   "cell_type": "code",
   "execution_count": 4,
   "metadata": {},
   "outputs": [],
   "source": [
    "## Controlling Amp Powers - Should only use one by one\n",
    "\n",
    "# roadm4.edfa_config('booster', target_gain=7.0, control_mode='constant-gain')\n",
    "# roadm3.edfa_config('booster', target_gain=10.0, control_mode='constant-gain')\n",
    "# roadm7.edfa_config('booster', target_gain=7.0, control_mode='constant-gain')\n",
    "# roadm8.edfa_config('booster', target_gain=6.5, control_mode='constant-gain')\n",
    "# roadm9.edfa_config('booster', target_gain=10.7, control_mode='constant-gain')\n",
    "# roadm6.edfa_config('booster', target_gain=10.0, control_mode='constant-gain')\n",
    "# roadm5.edfa_config('booster', target_gain=5.0, control_mode='constant-gain')\n",
    "# roadm3.edfa_config('preamp', target_gain=12.0, control_mode='constant-gain')\n",
    "# roadm4.edfa_config('booster', target_gain=13.0, control_mode='constant-gain')"
   ]
  },
  {
   "cell_type": "code",
   "execution_count": 10,
   "metadata": {},
   "outputs": [
    {
     "name": "stdout",
     "output_type": "stream",
     "text": [
      "#\tComponent\tI/O\tPort\tPower (dBm)\n",
      "0\ttf_1\tOut\t1\t-4.84\n",
      "1\tsplitter_1_2x2_p1\tIn\t545\t-6.52\n",
      "2\tarof_sig\tOut\t231\t-28.4\n",
      "3\tsplitter_1_2x2_p2\tIn\t546\t-48.28\n",
      "4\ttf_2\tOut\t2\t-6.1\n",
      "5\troadm_4_p2\tIn\t433\t-7.93\n"
     ]
    },
    {
     "name": "stdout",
     "output_type": "stream",
     "text": [
      "6\ttf_3\tOut\t3\t-6.04\n",
      "7\troadm_4_p3\tIn\t434\t-7.63\n",
      "8\tsplitter_1_2x2_p1\tOut\t225\t-10.55\n",
      "9\troadm_4_p1\tIn\t427\t-12.06\n",
      "10\troadm_4_line\tOut\t214\t4.07\n",
      "11\tfiber_temp_100m\tIn\t401\t2.72\n",
      "12\tfiber_temp_100m\tOut\t81\t2.27\n",
      "13\troadm_3_p1\tIn\t426\t0.82\n",
      "14\troadm_3_line\tOut\t215\t8.67\n",
      "15\tfiber_7_510m\tIn\t359\t7.01\n",
      "16\tfiber_7_510m\tOut\t39\t6.19\n",
      "17\troadm_7_line\tIn\t531\t4.53\n",
      "18\troadm_7_p1\tOut\t110\t7.06\n",
      "19\troadm_7_p1\tIn\t430\t5.84\n",
      "20\troadm_7_line\tOut\t211\t8.15\n",
      "21\tfiber_19_12646m\tIn\t375\t6.82\n",
      "22\tfiber_19_12646m\tOut\t55\t3.56\n",
      "23\troadm_8_line\tIn\t530\t1.96\n",
      "24\troadm_8_p1\tOut\t111\t7.57\n",
      "25\troadm_8_p1\tIn\t431\t6.1\n",
      "26\troadm_8_line\tOut\t210\t8.13\n",
      "27\tfiber_18_25220m\tIn\t374\t6.74\n",
      "28\tfiber_18_25220m\tOut\t54\t0.18\n",
      "29\troadm_9_line\tIn\t529\t-1.34\n",
      "30\troadm_9_p1\tOut\t112\t4.33\n",
      "31\troadm_9_p1\tIn\t432\t2.84\n",
      "32\troadm_9_line\tOut\t209\t8.31\n",
      "33\tfiber_22_25332m\tIn\t378\t6.59\n",
      "34\tfiber_22_25332m\tOut\t58\t0.12\n",
      "35\troadm_6_line\tIn\t532\t-1.39\n",
      "36\troadm_6_p1\tOut\t109\t3.44\n",
      "37\troadm_6_p1\tIn\t429\t2.21\n",
      "38\troadm_6_line\tOut\t212\t7.57\n",
      "39\tfiber_17_665m\tIn\t373\t6.33\n",
      "40\tfiber_17_665m\tOut\t53\t5.41\n",
      "41\tfiber_p1b_394m\tIn\t384\t3.62\n",
      "42\tfiber_p1b_394m\tOut\t64\t3.23\n",
      "43\troadm_5_line\tIn\t533\t2.0\n",
      "44\troadm_5_p1\tOut\t108\t7.94\n",
      "45\troadm_5_p1\tIn\t428\t6.71\n",
      "46\troadm_5_line\tOut\t213\t7.66\n",
      "47\tfiber_15_11895m\tIn\t371\t6.48\n",
      "48\tfiber_15_11895m\tOut\t51\t1.48\n",
      "49\troadm_3_line\tIn\t535\t0.05\n",
      "50\troadm_3_p1\tOut\t106\t5.94\n",
      "51\tfiber_temp_268m\tIn\t383\t4.37\n",
      "52\tfiber_temp_268m\tOut\t63\t3.04\n",
      "53\troadm_4_line\tIn\t534\t1.52\n",
      "54\troadm_4_p1\tOut\t107\t1.77\n",
      "55\ttf_1\tIn\t321\t0.18\n",
      "56\troadm_4_p2\tOut\t113\t2.31\n",
      "57\ttf_2\tIn\t322\t0.6\n",
      "58\troadm_4_p3\tOut\t114\t-1.93\n",
      "59\ttf_3\tIn\t323\t-3.42\n"
     ]
    }
   ],
   "source": [
    "pol.print_patch_table(patch_list=test1_patch_list)"
   ]
  },
  {
   "cell_type": "code",
   "execution_count": 11,
   "metadata": {},
   "outputs": [],
   "source": [
    "blocked_='false'\n",
    "cur_conn1 = roadm4.WSSConnection(\n",
    "        1, '1', 'in-service', blocked_,\n",
    "        4101, 4201,\n",
    "        str(192865.62),\n",
    "        str(192934.37),\n",
    "        '{:.2f}'.format(0.0),  'CH' + '1'\n",
    "    )\n",
    "\n",
    "cur_conn2 = roadm4.WSSConnection(\n",
    "        1, '2', 'in-service', blocked_,\n",
    "        4102, 4201,\n",
    "        str(192956.25),\n",
    "        str(193043.75),\n",
    "        '{:.2f}'.format(0.0),  'CH' + '2'\n",
    "    )\n",
    "\n",
    "cur_conn3 = roadm4.WSSConnection(\n",
    "        1, '3', 'in-service', blocked_,\n",
    "        4103, 4201,\n",
    "        str(193056.25),\n",
    "        str(193143.75),\n",
    "        '{:.2f}'.format(0.0),  'CH' + '3'\n",
    "    )\n",
    "\n",
    "\n",
    "conn_list = [cur_conn1, cur_conn2, cur_conn3]"
   ]
  },
  {
   "cell_type": "code",
   "execution_count": 12,
   "metadata": {},
   "outputs": [],
   "source": [
    "roadm4.wss_delete_connection(1, 'all')\n",
    "roadm4.wss_add_connections(conn_list)"
   ]
  },
  {
   "cell_type": "code",
   "execution_count": 60,
   "metadata": {},
   "outputs": [],
   "source": [
    "blocked_='false'\n",
    "\n",
    "#400 gbps 64qam is 62.5, we are doing 68.5\n",
    "\n",
    "conn_arof1 = roadm4.WSSConnection(\n",
    "        2, '1', 'in-service', blocked_,\n",
    "        5101, 5204,\n",
    "        str(192850.00),\n",
    "        str(192875.00),\n",
    "        '{:.2f}'.format(0.0),  'CH' + '1'\n",
    "    )\n",
    "\n",
    "# conn_coherent1 = roadm4.WSSConnection(\n",
    "#         2, '1', 'in-service', blocked_,\n",
    "#         5101, 5203,\n",
    "#         str(192856.25),\n",
    "#         str(192943.75),\n",
    "#         '{:.2f}'.format(0.0),  'CH' + '1'\n",
    "#     )\n",
    "\n",
    "conn_coherent1 = roadm4.WSSConnection(\n",
    "        2, '2', 'in-service', blocked_,\n",
    "        5101, 5201,\n",
    "        str(192875.00),\n",
    "        str(192925.00),\n",
    "        '{:.2f}'.format(0.0),  'CH' + '2'\n",
    "    )\n",
    "\n",
    "conn_arof2 = roadm4.WSSConnection(\n",
    "        2, '3', 'in-service', blocked_,\n",
    "        5101, 5204,\n",
    "        str(192925.00),\n",
    "        str(192950.00),\n",
    "        '{:.2f}'.format(0.0),  'CH' + '3'\n",
    "    )\n",
    "\n",
    "cur_coherent2 = roadm4.WSSConnection(\n",
    "        2, '4', 'in-service', blocked_,\n",
    "        5101, 5202,\n",
    "        str(192956.25),\n",
    "        str(193043.75),\n",
    "        '{:.2f}'.format(0.0),  'CH' + '4'\n",
    "    )\n",
    "\n",
    "cur_coherent3 = roadm4.WSSConnection(\n",
    "        2, '5', 'in-service', blocked_,\n",
    "        5101, 5203,\n",
    "        str(193065.62),\n",
    "        str(193134.37),\n",
    "        '{:.2f}'.format(0.0),  'CH' + '5'\n",
    "    )\n",
    "\n",
    "conn_list = [conn_arof1, conn_coherent1, conn_arof2, cur_coherent2, cur_coherent3]"
   ]
  },
  {
   "cell_type": "code",
   "execution_count": 84,
   "metadata": {},
   "outputs": [],
   "source": [
    "test_conn = roadm4.WSSConnection(\n",
    "        2, '1', 'in-service', blocked_,\n",
    "        5101, 5204,\n",
    "        str(192700.00),\n",
    "        str(193200.00),\n",
    "        '{:.2f}'.format(0.0),  'CH' + '1'\n",
    "    )\n",
    "roadm4.wss_delete_connection(2, 'all')\n",
    "roadm4.wss_add_connections([test_conn])"
   ]
  },
  {
   "cell_type": "code",
   "execution_count": null,
   "metadata": {},
   "outputs": [],
   "source": []
  },
  {
   "cell_type": "code",
   "execution_count": 62,
   "metadata": {},
   "outputs": [],
   "source": [
    "roadm4.wss_delete_connection(2, 'all')\n",
    "roadm4.wss_add_connections(conn_list)"
   ]
  },
  {
   "cell_type": "code",
   "execution_count": 91,
   "metadata": {},
   "outputs": [
    {
     "name": "stdout",
     "output_type": "stream",
     "text": [
      "Waiting 3 seconds for ROADM measurements to stabilize...\n",
      "\n",
      "ROADM measurements started at 2024-08-27 14:47:14.377771\n"
     ]
    },
    {
     "data": {
      "image/png": "[encoded data removed]",
      "text/plain": [
       "<Figure size 432x324 with 6 Axes>"
      ]
     },
     "metadata": {
      "needs_background": "light"
     },
     "output_type": "display_data"
    }
   ],
   "source": [
    "monitor4.plot_power('all', refresh=True, notebook=True)"
   ]
  },
  {
   "cell_type": "code",
   "execution_count": 21,
   "metadata": {},
   "outputs": [
    {
     "data": {
      "text/plain": [
       "[(1, -4.2), (2, -19.0), (3, 0.4), (4, -4.6)]"
      ]
     },
     "execution_count": 21,
     "metadata": {},
     "output_type": "execute_result"
    }
   ],
   "source": [
    "roadm4.get_demux_connection_input_power()"
   ]
  },
  {
   "cell_type": "code",
   "execution_count": null,
   "metadata": {},
   "outputs": [],
   "source": []
  },
  {
   "cell_type": "code",
   "execution_count": null,
   "metadata": {},
   "outputs": [],
   "source": []
  }
 ],
 "metadata": {
  "kernelspec": {
   "display_name": "Python 3",
   "language": "python",
   "name": "python3"
  },
  "language_info": {
   "codemirror_mode": {
    "name": "ipython",
    "version": 3
   },
   "file_extension": ".py",
   "mimetype": "text/x-python",
   "name": "python",
   "nbconvert_exporter": "python",
   "pygments_lexer": "ipython3",
   "version": "3.6.9"
  }
 },
 "nbformat": 4,
 "nbformat_minor": 2
}
